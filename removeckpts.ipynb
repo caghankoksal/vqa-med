{
 "cells": [
  {
   "cell_type": "code",
   "execution_count": 3,
   "metadata": {},
   "outputs": [],
   "source": [
    "import shutil\n",
    "import os"
   ]
  },
  {
   "cell_type": "code",
   "execution_count": 9,
   "metadata": {},
   "outputs": [],
   "source": [
    "for experiment in os.listdir('notebooks/lightning_logs'):\n",
    "    remove_dir_path = os.path.join('notebooks/lightning_logs', experiment, 'checkpoints')\n",
    "    shutil.rmtree(remove_dir_path, ignore_errors=True)"
   ]
  },
  {
   "cell_type": "code",
   "execution_count": null,
   "metadata": {},
   "outputs": [],
   "source": []
  }
 ],
 "metadata": {
  "kernelspec": {
   "display_name": "caghan4",
   "language": "python",
   "name": "python3"
  },
  "language_info": {
   "codemirror_mode": {
    "name": "ipython",
    "version": 3
   },
   "file_extension": ".py",
   "mimetype": "text/x-python",
   "name": "python",
   "nbconvert_exporter": "python",
   "pygments_lexer": "ipython3",
   "version": "3.9.15 (main, Nov 24 2022, 14:31:59) \n[GCC 11.2.0]"
  },
  "orig_nbformat": 4,
  "vscode": {
   "interpreter": {
    "hash": "c7396ef363109521e03a1a0d63e78822cb454baa0fd8fa9ea26684fd7d4e3122"
   }
  }
 },
 "nbformat": 4,
 "nbformat_minor": 2
}
