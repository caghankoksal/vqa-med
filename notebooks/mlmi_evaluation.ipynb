{
  "nbformat": 4,
  "nbformat_minor": 0,
  "metadata": {
    "colab": {
      "name": "mlmi_evaluation.ipynb",
      "provenance": [],
      "collapsed_sections": []
    },
    "kernelspec": {
      "name": "python3",
      "display_name": "Python 3"
    },
    "language_info": {
      "name": "python"
    }
  },
  "cells": [
    {
      "cell_type": "code",
      "execution_count": 1,
      "metadata": {
        "id": "jJNBvQn_5AOR"
      },
      "outputs": [],
      "source": [
        "import numpy as np\n",
        "import pandas as pd\n",
        "import matplotlib.pyplot as plt\n",
        "import seaborn as sns\n",
        "%matplotlib inline"
      ]
    },
    {
      "cell_type": "code",
      "source": [
        "!pip install pycocoevalcap"
      ],
      "metadata": {
        "colab": {
          "base_uri": "https://localhost:8080/"
        },
        "id": "DKOX0sljHPVf",
        "outputId": "a55b3a17-7744-4436-f502-b4e8a569bd58"
      },
      "execution_count": 2,
      "outputs": [
        {
          "output_type": "stream",
          "name": "stdout",
          "text": [
            "Looking in indexes: https://pypi.org/simple, https://us-python.pkg.dev/colab-wheels/public/simple/\n",
            "Requirement already satisfied: pycocoevalcap in /usr/local/lib/python3.7/dist-packages (1.2)\n",
            "Requirement already satisfied: pycocotools>=2.0.2 in /usr/local/lib/python3.7/dist-packages (from pycocoevalcap) (2.0.4)\n",
            "Requirement already satisfied: matplotlib>=2.1.0 in /usr/local/lib/python3.7/dist-packages (from pycocotools>=2.0.2->pycocoevalcap) (3.2.2)\n",
            "Requirement already satisfied: numpy in /usr/local/lib/python3.7/dist-packages (from pycocotools>=2.0.2->pycocoevalcap) (1.21.6)\n",
            "Requirement already satisfied: python-dateutil>=2.1 in /usr/local/lib/python3.7/dist-packages (from matplotlib>=2.1.0->pycocotools>=2.0.2->pycocoevalcap) (2.8.2)\n",
            "Requirement already satisfied: cycler>=0.10 in /usr/local/lib/python3.7/dist-packages (from matplotlib>=2.1.0->pycocotools>=2.0.2->pycocoevalcap) (0.11.0)\n",
            "Requirement already satisfied: pyparsing!=2.0.4,!=2.1.2,!=2.1.6,>=2.0.1 in /usr/local/lib/python3.7/dist-packages (from matplotlib>=2.1.0->pycocotools>=2.0.2->pycocoevalcap) (3.0.9)\n",
            "Requirement already satisfied: kiwisolver>=1.0.1 in /usr/local/lib/python3.7/dist-packages (from matplotlib>=2.1.0->pycocotools>=2.0.2->pycocoevalcap) (1.4.3)\n",
            "Requirement already satisfied: typing-extensions in /usr/local/lib/python3.7/dist-packages (from kiwisolver>=1.0.1->matplotlib>=2.1.0->pycocotools>=2.0.2->pycocoevalcap) (4.1.1)\n",
            "Requirement already satisfied: six>=1.5 in /usr/local/lib/python3.7/dist-packages (from python-dateutil>=2.1->matplotlib>=2.1.0->pycocotools>=2.0.2->pycocoevalcap) (1.15.0)\n"
          ]
        }
      ]
    },
    {
      "cell_type": "code",
      "source": [
        "#for scores\n",
        "from sklearn.metrics import roc_auc_score, f1_score, recall_score, precision_score\n",
        "\n",
        "from pycocoevalcap.bleu.bleu import Bleu\n",
        "from pycocoevalcap.meteor.meteor import Meteor\n",
        "from pycocoevalcap.rouge.rouge import Rouge\n",
        "from pycocoevalcap.cider.cider import Cider"
      ],
      "metadata": {
        "id": "EaplDOu3HVX4"
      },
      "execution_count": 3,
      "outputs": []
    },
    {
      "cell_type": "markdown",
      "source": [
        "# just a temporary tokenizer, TODO: replace with our tokenizer"
      ],
      "metadata": {
        "id": "4IBaY3tMLb6d"
      }
    },
    {
      "cell_type": "code",
      "source": [
        "# install nltk package\n",
        "!pip install nltk"
      ],
      "metadata": {
        "colab": {
          "base_uri": "https://localhost:8080/"
        },
        "id": "W3xzRoFKLWGM",
        "outputId": "c4008648-100a-4d05-b2e2-395492f982ef"
      },
      "execution_count": 4,
      "outputs": [
        {
          "output_type": "stream",
          "name": "stdout",
          "text": [
            "Looking in indexes: https://pypi.org/simple, https://us-python.pkg.dev/colab-wheels/public/simple/\n",
            "Requirement already satisfied: nltk in /usr/local/lib/python3.7/dist-packages (3.7)\n",
            "Requirement already satisfied: regex>=2021.8.3 in /usr/local/lib/python3.7/dist-packages (from nltk) (2022.6.2)\n",
            "Requirement already satisfied: tqdm in /usr/local/lib/python3.7/dist-packages (from nltk) (4.64.0)\n",
            "Requirement already satisfied: click in /usr/local/lib/python3.7/dist-packages (from nltk) (7.1.2)\n",
            "Requirement already satisfied: joblib in /usr/local/lib/python3.7/dist-packages (from nltk) (1.1.0)\n"
          ]
        }
      ]
    },
    {
      "cell_type": "code",
      "source": [
        "import nltk\n",
        "print('Using NLTK version {}.'.format(nltk.__version__))\n",
        "nltk.download('punkt')"
      ],
      "metadata": {
        "colab": {
          "base_uri": "https://localhost:8080/"
        },
        "id": "PA-RmwsxLolw",
        "outputId": "428b3c96-94a2-424a-fa93-f7d425f79157"
      },
      "execution_count": 5,
      "outputs": [
        {
          "output_type": "stream",
          "name": "stdout",
          "text": [
            "Using NLTK version 3.7.\n"
          ]
        },
        {
          "output_type": "stream",
          "name": "stderr",
          "text": [
            "[nltk_data] Downloading package punkt to /root/nltk_data...\n",
            "[nltk_data]   Package punkt is already up-to-date!\n"
          ]
        },
        {
          "output_type": "execute_result",
          "data": {
            "text/plain": [
              "True"
            ]
          },
          "metadata": {},
          "execution_count": 5
        }
      ]
    },
    {
      "cell_type": "markdown",
      "source": [
        "# MLMI-CXR Report Generation METRICS\n",
        "## I. BLEU:\n",
        "\n",
        "Based on the paper: *BLEU: a Method for Automatic Evaluation of Machine Translation* \n",
        "-https://aclanthology.org/P02-1040.pdf \n",
        "\n",
        "- **RANGE:** [0: low correlation - 1: high correlation]\n",
        "\n",
        "- **ABOUT:** BLEU (BiLingual Evaluation Understudy) is a\n",
        "popular metric for Machine Translation (MT) evaluation. It\n",
        "computes an n-gram based precision for the candidate sentence with respect to the references. The key idea of BLEU\n",
        "is to compute precision by clipping. Clipping computes precision for a word, based on the maximum number of times\n",
        "it occurs in any reference sentence. Thus, a candidate sentence saying “The The The”, would get credit for saying\n",
        "only one “The”, if the word occurs at most once across individual references. BLEU computes the geometric mean\n",
        "of the n-gram precisions and adds a brevity-penalty to discourage overly short sentences. The most common formulation of BLEU is BLEU4, which uses 1-grams up to 4-grams, though lower-order variations such as BLEU1 (unigram BLEU) and BLEU2 (unigram and bigram BLEU) are\n",
        "also used. We compute BLEU at the sentence level. For machine\n",
        "translation BLEU is most often computed at the corpus level\n",
        "where correlation with human judgment is high; the correlation is **poor at the level of individual sentences**.\n",
        "\n",
        "- **USAGE:** We use BLEU 1-gram, 2-gram, 3-gram, 4-gram\n",
        "\n",
        "\n",
        "## II. METEOR:\n",
        "Based on the paper: *Meteor Universal: Language Specific Translation Evaluation for Any Target Language* \n",
        "-https://www.cs.cmu.edu/~alavie/METEOR/\n",
        "\n",
        "- **RANGE:** [0: low correlation - 1: high correlation]\n",
        "\n",
        "- **ABOUT:** stands for Metric for Evaluation of Translation with Explicit ORdering. It computes the F-measure based on matches, and returns the maximum score over a set of references as its\n",
        "judgment of quality. It resolves word-level correspondences in a more sophisticated manner, using exact\n",
        "matches, stemming and semantic similarity. It optimizes\n",
        "over matches minimizing chunkiness. Minimizing chunkiness implies that matches should be consecutive, wherever\n",
        "possible. It also sets parameters favoring recall over precision in its F-measure computation.\n",
        "\n",
        "- **USAGE:** We use the latest version's (1.5) implementation\n",
        "\n",
        "## III: ROUGE:\n",
        "Based on the paper: *ROUGE: A Package for Automatic Evaluation of Summaries* \n",
        "-https://aclanthology.org/W04-1013.pdf\n",
        "\n",
        "- **RANGE:** [0: low correlation - 1: high correlation]\n",
        "\n",
        "- **ABOUT:** ROUGE stands for Recall Oriented Understudy of Gisting Evaluation. It computes n-gram based recall for the candidate sentence with respect\n",
        "to the references. It is a popular metric for summarization\n",
        "evaluation. Versions of ROUGE can be\n",
        "computed by varying the n-gram count. Two other versions of ROUGE are ROUGE-S and ROUGE-L. These compute an\n",
        "F-measure with a recall bias using skip-bigrams and longest\n",
        "common subsequence respectively, between the candidate\n",
        "and each reference sentence. Skip-bigrams are all pairs of\n",
        "ordered words in a sentence, sampled non-consecutively.\n",
        "Given these scores, they return the maximum score across\n",
        "the set of references as the judgment of quality.\n",
        "\n",
        "- **USAGE:** We use the Rouge-L (Longest Common Subsequence) implementation\n",
        "\n",
        "## IV: CIDEr:\n",
        "Based on the paper: *CIDEr: Consensus-based Image Description Evaluation* \n",
        "-https://arxiv.org/pdf/1411.5726.pdf\n",
        "\n",
        "- **RANGE:** [0: low correlation - 1: high correlation]\n",
        "\n",
        "- **ABOUT:**  CIDEr is an automatic consensus metric of image\n",
        "description quality – CIDEr (Consensus-based Image Description Evaluation). It measures the similarity of\n",
        "a generated sentence against a set of ground truth sentences\n",
        "written by humans. Using sentence similarity, the notions of grammaticality, saliency, importance and\n",
        "accuracy (precision and recall) are inherently captured by\n",
        "this metric.\n",
        "\n",
        "- **USAGE:** We use the default CIDEr implementation\n"
      ],
      "metadata": {
        "id": "Cwg4auyDcdi0"
      }
    },
    {
      "cell_type": "code",
      "source": [
        "def compute_scores(out, gt):\n",
        "    \"\"\"\n",
        "    Performs the evaluation of metrics using pycocoevalcap (https://github.com/salaniz/pycocoevalcap)\n",
        "    :param out: dictionary containing the generated report and the images,\n",
        "    :param gt: dictionary containing the reports ground truth and the images,\n",
        "    \"\"\"\n",
        "    metrics = [\n",
        "        (Bleu(4), [\"BLEU_1\", \"BLEU_2\", \"BLEU_3\", \"BLEU_4\"]),\n",
        "        (Meteor(), \"METEOR\"),\n",
        "        (Rouge(), \"ROUGE_L\"),\n",
        "        (Cider(), \"CIDER\")\n",
        "    ]\n",
        "\n",
        "    result = {}\n",
        "    # Compute score for each metric\n",
        "    for scorer, method in metrics:\n",
        "        try:\n",
        "            score, _ = scorer.compute_score(out, gt, verbose=0)\n",
        "        except TypeError:\n",
        "            score, _ = scorer.compute_score(out, gt)\n",
        "        if type(method) == list:\n",
        "            for score_i, method_i in zip(score, method):\n",
        "                result[method_i] = score_i\n",
        "        else:\n",
        "            result[method] = score\n",
        "    return result"
      ],
      "metadata": {
        "id": "h9UVjprn5ji5"
      },
      "execution_count": 30,
      "outputs": []
    },
    {
      "cell_type": "code",
      "source": [
        "generated = \"FINAL REPORT CHEST ON  HISTORY:  Status post chest pain.  Evaluate for acute process. FINDINGS:  In comparison with prior study from the study.  A nasogastinal silhouette appears grossly clear.  The lungs are stable.\"\n",
        "gen_modif = \"FINAL REPORT CHEST ON  HISTORY:  Status post chest pain.  Evaluate for acute process. FINDINGS:  In comparison with prior study from the study.  A nasogastinal silhouette appears grossly clear.  The lungs are stable.\"\n",
        "\n",
        "ground_truth = \"FINAL REPORT EXAMINATION:  CHEST (PA AND LAT) INDICATION:  History: with shortness of breath TECHNIQUE:  Chest PA and lateral COMPARISON: chest radiograph FINDINGS: Mild to moderate enlargement of the cardiac silhouette is unchanged. The aorta remains tortuous. Mediastinal and hilar contours are otherwise similar. The pulmonary vasculature is not engorged. Lungs are hyperinflated. Apart from minimal atelectasis in the lung bases and biapical scarring in the lung apices, more pronounced on the right, the lungs are clear. No pleural effusion or pneumothorax is demonstrated. There are no acute osseous abnormalities. IMPRESSION: No acute cardiopulmonary abnormality.\""
      ],
      "metadata": {
        "id": "VWf2RZ7bDyvY"
      },
      "execution_count": 31,
      "outputs": []
    },
    {
      "cell_type": "code",
      "source": [
        "# generated = nltk.word_tokenize(generated)\n",
        "# gen_modif = nltk.word_tokenize(gen_modif)\n",
        "# ground_truth = nltk.word_tokenize(ground_truth)"
      ],
      "metadata": {
        "id": "93OBBj3BL0E2"
      },
      "execution_count": 32,
      "outputs": []
    },
    {
      "cell_type": "code",
      "source": [
        "img_id = 5151\n",
        "\n",
        "out_lst = []\n",
        "out_lst.append(generated)\n",
        "\n",
        "gt_lst = []\n",
        "gt_lst.append(gen_modif)\n",
        "\n",
        "#pycocoevalcap uses dictionary where the id of the image is the key and the value is the generated/ground truth report\n",
        "out_dict = {img_id: out_lst}\n",
        "gt_dict = {img_id: gt_lst}"
      ],
      "metadata": {
        "id": "6W_rUCOyKZX9"
      },
      "execution_count": 33,
      "outputs": []
    },
    {
      "cell_type": "code",
      "source": [
        "result = compute_scores(out_dict, gt_dict)"
      ],
      "metadata": {
        "id": "DZ2d0coHII-X"
      },
      "execution_count": 34,
      "outputs": []
    },
    {
      "cell_type": "code",
      "source": [
        "result"
      ],
      "metadata": {
        "colab": {
          "base_uri": "https://localhost:8080/"
        },
        "id": "-7arhXoyIU46",
        "outputId": "9288e773-d116-4426-fee7-c8b004921707"
      },
      "execution_count": 35,
      "outputs": [
        {
          "output_type": "execute_result",
          "data": {
            "text/plain": [
              "{'BLEU_1': 0.9999999999375002,\n",
              " 'BLEU_2': 0.9999999999369961,\n",
              " 'BLEU_3': 0.9999999999364697,\n",
              " 'BLEU_4': 0.999999999935919,\n",
              " 'CIDER': 0.0,\n",
              " 'METEOR': 1.0,\n",
              " 'ROUGE_L': 1.0}"
            ]
          },
          "metadata": {},
          "execution_count": 35
        }
      ]
    },
    {
      "cell_type": "code",
      "source": [
        "keys = list(result.keys())\n",
        "vals = list(result.values())\n",
        "sns.barplot(x=keys, y=vals)\n",
        "plt.xlabel(\"Metrics\")\n",
        "plt.ylabel('Score')\n",
        "#plt.title('')\n",
        "ax = plt.gca()\n",
        "ax.set_ylim([0, 1])\n",
        "\n",
        "plt.show()"
      ],
      "metadata": {
        "colab": {
          "base_uri": "https://localhost:8080/",
          "height": 284
        },
        "id": "eMKL_Z35ZN2A",
        "outputId": "a52ceea4-6839-4a68-b481-18209780b9cb"
      },
      "execution_count": 36,
      "outputs": [
        {
          "output_type": "display_data",
          "data": {
            "text/plain": [
              "<Figure size 432x288 with 1 Axes>"
            ],
            "image/png": "[encoded data removed]"
          },
          "metadata": {
            "needs_background": "light"
          }
        }
      ]
    },
    {
      "cell_type": "code",
      "source": [
        ""
      ],
      "metadata": {
        "id": "M-bHSVi6ltRS"
      },
      "execution_count": null,
      "outputs": []
    }
  ]
}