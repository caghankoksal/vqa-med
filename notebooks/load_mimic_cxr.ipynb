{
 "cells": [
  {
   "cell_type": "code",
   "execution_count": null,
   "metadata": {},
   "outputs": [],
   "source": [
    "import torchxrayvision as xrv"
   ]
  },
  {
   "cell_type": "code",
   "execution_count": null,
   "metadata": {},
   "outputs": [],
   "source": [
    "import pydicom as dicom\n",
    "import matplotlib.pylab as plt"
   ]
  },
  {
   "cell_type": "code",
   "execution_count": null,
   "metadata": {},
   "outputs": [],
   "source": [
    "image_path1 = '/home/andrei/Downloads/02aa804e-bde0afdd-112c0b34-7bc16630-4e384014.dcm' \n",
    "image_path2 = '/home/andrei/Downloads/174413ec-4ec4c1f7-34ea26b7-c5f994f8-79ef1962.dcm' "
   ]
  },
  {
   "cell_type": "code",
   "execution_count": null,
   "metadata": {},
   "outputs": [],
   "source": [
    "ds1 = dicom.dcmread(image_path1)\n",
    "ds2 = dicom.dcmread(image_path2)\n"
   ]
  },
  {
   "cell_type": "code",
   "execution_count": null,
   "metadata": {},
   "outputs": [],
   "source": [
    "plt.subplot(1,2,1)\n",
    "plt.imshow(ds1.pixel_array, cmap='gray')\n",
    "plt.title('02aa804e')\n",
    "\n",
    "plt.subplot(1,2,2)\n",
    "plt.imshow(ds2.pixel_array, cmap='gray')\n",
    "plt.title('174413ec')"
   ]
  },
  {
   "cell_type": "markdown",
   "metadata": {},
   "source": [
    "FINAL REPORT\n",
    " EXAMINATION:  CHEST (PA AND LAT)\n",
    " \n",
    " INDICATION:  ___F with new onset ascites  // eval for infection\n",
    " \n",
    " TECHNIQUE:  Chest PA and lateral\n",
    " \n",
    " COMPARISON:  None.\n",
    " \n",
    " FINDINGS: \n",
    " \n",
    " There is no focal consolidation, pleural effusion or pneumothorax.  Bilateral\n",
    " nodular opacities that most likely represent nipple shadows. The\n",
    " cardiomediastinal silhouette is normal.  Clips project over the left lung,\n",
    " potentially within the breast. The imaged upper abdomen is unremarkable.\n",
    " Chronic deformity of the posterior left sixth and seventh ribs are noted.\n",
    " \n",
    " IMPRESSION: \n",
    " \n",
    " No acute cardiopulmonary process.\n"
   ]
  },
  {
   "cell_type": "code",
   "execution_count": null,
   "metadata": {},
   "outputs": [],
   "source": [
    "folder = '/home/andrei/TUM/SoSe2022/MLMI/mimic-cxr/physionet.org/files/mimic-cxr/2.0.0/files/p10/p10000032/s50414267.txt'\n",
    "os.path.exists(folder)"
   ]
  },
  {
   "cell_type": "code",
   "execution_count": null,
   "metadata": {},
   "outputs": [],
   "source": [
    "import os\n",
    "from tqdm import tqdm as tqdm"
   ]
  },
  {
   "cell_type": "code",
   "execution_count": null,
   "metadata": {},
   "outputs": [],
   "source": [
    "MIMIC_CXR_DCM_PATH = '/Users/caghankoksal/Desktop/development/Flamingo-playground/physionet.org/files/mimic-cxr/2.0.0/files/'\n",
    "MIMIC_CXR_JPG_PATH = '/Users/caghankoksal/Desktop/development/physionet.org/files/mimic-cxr-jpg/2.0.0/files/'\n",
    "import glob"
   ]
  },
  {
   "cell_type": "code",
   "execution_count": null,
   "metadata": {},
   "outputs": [],
   "source": [
    "# Jpeg files does not include the patient information.\n",
    "def return_valid_samples(cxr_dcm_path, cxr_jpg_path):\n",
    "\n",
    "    main_path = cxr_jpg_path\n",
    "\n",
    "    valid_samples = []\n",
    "    for folder in tqdm([dir for dir in os.listdir(main_path) if not dir.startswith(\".\") and not dir.endswith('.html')]):\n",
    "        #print(f\"Cur folder : \",folder)\n",
    "        for patient in [pat_fold for pat_fold in os.listdir(os.path.join(main_path, folder)) if not pat_fold.endswith('.html') and not pat_fold.startswith(\".\")]:\n",
    "            #print(\"Current patient\", patient)\n",
    "            for record in [cur_file for cur_file in os.listdir(os.path.join(main_path, folder, patient)) if not cur_file.endswith('html') and not cur_file.endswith('.txt') and not cur_file.startswith('.') and cur_file != '/']:\n",
    "                # Text is only in the record folder\n",
    "                path_of_record_folder_text = os.path.join(cxr_dcm_path, folder, patient, record)\n",
    "                path_of_record_folder = os.path.join(main_path, folder, patient, record)\n",
    "                # Each folder has its corresponding txt file\n",
    "                txt_path = path_of_record_folder_text + '.txt'\n",
    "                # Some folders are empty and they are useless\n",
    "                if len(glob.glob1(path_of_record_folder,\"*.jpg\")) == 0:\n",
    "                    #print(\"No images in this folder\",path_of_record_folder)\n",
    "                    continue\n",
    "                else:\n",
    "                    valid_samples.append(\n",
    "                        {'folder_path': path_of_record_folder,\n",
    "                        'txt_path': txt_path}\n",
    "                    )\n",
    "    return valid_samples"
   ]
  },
  {
   "cell_type": "code",
   "execution_count": null,
   "metadata": {},
   "outputs": [],
   "source": [
    "valid_list = return_valid_samples(MIMIC_CXR_DCM_PATH, MIMIC_CXR_JPG_PATH )"
   ]
  },
  {
   "cell_type": "code",
   "execution_count": null,
   "metadata": {},
   "outputs": [],
   "source": [
    "import json"
   ]
  },
  {
   "cell_type": "code",
   "execution_count": null,
   "metadata": {},
   "outputs": [],
   "source": [
    "with open(\"../data/external/mimic_cxr_all.json\", \"w\") as final:\n",
    "    json.dump(valid_list, final, indent=2)\n",
    "with open(\"../data/external/valid_data.json\", \"r\") as f:\n",
    "    valid_data_points = json.load(f)\n"
   ]
  },
  {
   "cell_type": "code",
   "execution_count": null,
   "metadata": {},
   "outputs": [],
   "source": []
  },
  {
   "cell_type": "code",
   "execution_count": null,
   "metadata": {},
   "outputs": [],
   "source": [
    "valid_data_points"
   ]
  },
  {
   "cell_type": "code",
   "execution_count": null,
   "metadata": {},
   "outputs": [],
   "source": [
    "import torch \n",
    "from sklearn import model_selection\n",
    "train_split, val = model_selection.train_test_split(valid_data_points, test_size=0.2)\n",
    "val_split, test_split = model_selection.train_test_split(val, test_size=0.5)"
   ]
  },
  {
   "cell_type": "code",
   "execution_count": null,
   "metadata": {},
   "outputs": [],
   "source": [
    "with open(\"../data/external/mimic_cxr_train.json\", \"w\") as final:\n",
    "   json.dump(train_split, final, indent=2)"
   ]
  },
  {
   "cell_type": "code",
   "execution_count": null,
   "metadata": {},
   "outputs": [],
   "source": [
    "with open(\"../data/external/mimic_cxr_val.json\", \"w\") as final:\n",
    "   json.dump(val_split, final, indent=2)\n",
    "\n",
    "\n",
    "with open(\"../data/external/mimic_cxr_test.json\", \"w\") as final:\n",
    "   json.dump(test_split, final, indent=2)\n"
   ]
  },
  {
   "cell_type": "code",
   "execution_count": null,
   "metadata": {},
   "outputs": [],
   "source": [
    "len(train_split)"
   ]
  },
  {
   "cell_type": "code",
   "execution_count": null,
   "metadata": {},
   "outputs": [],
   "source": [
    "len(val_split)"
   ]
  },
  {
   "cell_type": "code",
   "execution_count": null,
   "metadata": {},
   "outputs": [],
   "source": [
    "with open(\"../data/external/valid_data.json\", \"r\") as f:\n",
    "    valid_data_points = json.load(f)"
   ]
  },
  {
   "cell_type": "code",
   "execution_count": null,
   "metadata": {},
   "outputs": [],
   "source": [
    "from os import makedirs, path, getcwd\n",
    "from PIL import Image\n",
    "from tqdm import tqdm as tqdm"
   ]
  },
  {
   "cell_type": "code",
   "execution_count": null,
   "metadata": {},
   "outputs": [],
   "source": [
    "for file in tqdm(valid_data_points):\n",
    "    folder_path = file['folder_path']\n",
    "    new_folder_path = folder_path.replace(\"mimic-cxr-jpg\",\"mimic-cxr-jpg-resized\")\n",
    "    if not path.isdir(new_folder_path):\n",
    "        makedirs(new_folder_path)\n",
    "\n",
    "    for img_path in glob.glob1(folder_path,\"*.jpg\"):\n",
    "        cur_img_full_path = os.path.join(folder_path, img_path)\n",
    "        try:\n",
    "            cur_img = Image.open(cur_img_full_path)\n",
    "            cur_img_resized = cur_img.resize((224,224))\n",
    "            cur_img_resized.save(fp=os.path.join(new_folder_path,img_path),format=\"JPEG\",quality=100)\n",
    "        except:\n",
    "            print(\"Error in resizing\",cur_img_full_path)\n",
    "            continue\n",
    "\n",
    "\n",
    "    "
   ]
  },
  {
   "cell_type": "code",
   "execution_count": null,
   "metadata": {},
   "outputs": [],
   "source": [
    "valid_data_points[0:4]"
   ]
  },
  {
   "cell_type": "code",
   "execution_count": null,
   "metadata": {},
   "outputs": [],
   "source": [
    "import shutil"
   ]
  },
  {
   "cell_type": "code",
   "execution_count": null,
   "metadata": {},
   "outputs": [],
   "source": [
    "def move_all_txt(valid_data_points):\n",
    "    for file in tqdm(valid_data_points):\n",
    "        txt_file_path = file['txt_path']\n",
    "        new_folder_path = '/' + os.path.join(*txt_file_path.split(\"/\")[:-1]).replace(\"mimic-cxr\",\"mimic-cxr-txt\")\n",
    "        print(new_folder_path)\n",
    "        if not path.isdir(new_folder_path):\n",
    "            makedirs(new_folder_path)\n",
    "\n",
    "        shutil.copyfile(txt_file_path, os.path.join(new_folder_path,txt_file_path.split('/')[-1]))\n",
    "        \n",
    "            "
   ]
  },
  {
   "cell_type": "code",
   "execution_count": null,
   "metadata": {},
   "outputs": [],
   "source": [
    "move_all_txt(valid_data_points)"
   ]
  },
  {
   "cell_type": "code",
   "execution_count": null,
   "metadata": {},
   "outputs": [],
   "source": [
    "!pwd"
   ]
  },
  {
   "cell_type": "code",
   "execution_count": 1,
   "metadata": {},
   "outputs": [],
   "source": [
    "import pandas as pd\n",
    "import os "
   ]
  },
  {
   "cell_type": "code",
   "execution_count": 2,
   "metadata": {},
   "outputs": [
    {
     "data": {
      "text/html": [
       "<div>\n",
       "<style scoped>\n",
       "    .dataframe tbody tr th:only-of-type {\n",
       "        vertical-align: middle;\n",
       "    }\n",
       "\n",
       "    .dataframe tbody tr th {\n",
       "        vertical-align: top;\n",
       "    }\n",
       "\n",
       "    .dataframe thead th {\n",
       "        text-align: right;\n",
       "    }\n",
       "</style>\n",
       "<table border=\"1\" class=\"dataframe\">\n",
       "  <thead>\n",
       "    <tr style=\"text-align: right;\">\n",
       "      <th></th>\n",
       "      <th>dicom_id</th>\n",
       "      <th>study_id</th>\n",
       "      <th>subject_id</th>\n",
       "      <th>split</th>\n",
       "    </tr>\n",
       "  </thead>\n",
       "  <tbody>\n",
       "    <tr>\n",
       "      <th>0</th>\n",
       "      <td>02aa804e-bde0afdd-112c0b34-7bc16630-4e384014</td>\n",
       "      <td>50414267</td>\n",
       "      <td>10000032</td>\n",
       "      <td>train</td>\n",
       "    </tr>\n",
       "    <tr>\n",
       "      <th>1</th>\n",
       "      <td>174413ec-4ec4c1f7-34ea26b7-c5f994f8-79ef1962</td>\n",
       "      <td>50414267</td>\n",
       "      <td>10000032</td>\n",
       "      <td>train</td>\n",
       "    </tr>\n",
       "    <tr>\n",
       "      <th>2</th>\n",
       "      <td>2a2277a9-b0ded155-c0de8eb9-c124d10e-82c5caab</td>\n",
       "      <td>53189527</td>\n",
       "      <td>10000032</td>\n",
       "      <td>train</td>\n",
       "    </tr>\n",
       "    <tr>\n",
       "      <th>3</th>\n",
       "      <td>e084de3b-be89b11e-20fe3f9f-9c8d8dfe-4cfd202c</td>\n",
       "      <td>53189527</td>\n",
       "      <td>10000032</td>\n",
       "      <td>train</td>\n",
       "    </tr>\n",
       "    <tr>\n",
       "      <th>4</th>\n",
       "      <td>68b5c4b1-227d0485-9cc38c3f-7b84ab51-4b472714</td>\n",
       "      <td>53911762</td>\n",
       "      <td>10000032</td>\n",
       "      <td>train</td>\n",
       "    </tr>\n",
       "    <tr>\n",
       "      <th>...</th>\n",
       "      <td>...</td>\n",
       "      <td>...</td>\n",
       "      <td>...</td>\n",
       "      <td>...</td>\n",
       "    </tr>\n",
       "    <tr>\n",
       "      <th>377105</th>\n",
       "      <td>428e2c18-5721d8f3-35a05001-36f3d080-9053b83c</td>\n",
       "      <td>57132437</td>\n",
       "      <td>19999733</td>\n",
       "      <td>train</td>\n",
       "    </tr>\n",
       "    <tr>\n",
       "      <th>377106</th>\n",
       "      <td>58c403aa-35ff8bd9-73e39f54-8dc9cc5d-e0ec3fa9</td>\n",
       "      <td>57132437</td>\n",
       "      <td>19999733</td>\n",
       "      <td>train</td>\n",
       "    </tr>\n",
       "    <tr>\n",
       "      <th>377107</th>\n",
       "      <td>58766883-376a15ce-3b323a28-6af950a0-16b793bd</td>\n",
       "      <td>55368167</td>\n",
       "      <td>19999987</td>\n",
       "      <td>train</td>\n",
       "    </tr>\n",
       "    <tr>\n",
       "      <th>377108</th>\n",
       "      <td>7ba273af-3d290f8d-e28d0ab4-484b7a86-7fc12b08</td>\n",
       "      <td>58621812</td>\n",
       "      <td>19999987</td>\n",
       "      <td>train</td>\n",
       "    </tr>\n",
       "    <tr>\n",
       "      <th>377109</th>\n",
       "      <td>1a1fe7e3-cbac5d93-b339aeda-86bb86b5-4f31e82e</td>\n",
       "      <td>58971208</td>\n",
       "      <td>19999987</td>\n",
       "      <td>train</td>\n",
       "    </tr>\n",
       "  </tbody>\n",
       "</table>\n",
       "<p>377110 rows × 4 columns</p>\n",
       "</div>"
      ],
      "text/plain": [
       "                                            dicom_id  study_id  subject_id  \\\n",
       "0       02aa804e-bde0afdd-112c0b34-7bc16630-4e384014  50414267    10000032   \n",
       "1       174413ec-4ec4c1f7-34ea26b7-c5f994f8-79ef1962  50414267    10000032   \n",
       "2       2a2277a9-b0ded155-c0de8eb9-c124d10e-82c5caab  53189527    10000032   \n",
       "3       e084de3b-be89b11e-20fe3f9f-9c8d8dfe-4cfd202c  53189527    10000032   \n",
       "4       68b5c4b1-227d0485-9cc38c3f-7b84ab51-4b472714  53911762    10000032   \n",
       "...                                              ...       ...         ...   \n",
       "377105  428e2c18-5721d8f3-35a05001-36f3d080-9053b83c  57132437    19999733   \n",
       "377106  58c403aa-35ff8bd9-73e39f54-8dc9cc5d-e0ec3fa9  57132437    19999733   \n",
       "377107  58766883-376a15ce-3b323a28-6af950a0-16b793bd  55368167    19999987   \n",
       "377108  7ba273af-3d290f8d-e28d0ab4-484b7a86-7fc12b08  58621812    19999987   \n",
       "377109  1a1fe7e3-cbac5d93-b339aeda-86bb86b5-4f31e82e  58971208    19999987   \n",
       "\n",
       "        split  \n",
       "0       train  \n",
       "1       train  \n",
       "2       train  \n",
       "3       train  \n",
       "4       train  \n",
       "...       ...  \n",
       "377105  train  \n",
       "377106  train  \n",
       "377107  train  \n",
       "377108  train  \n",
       "377109  train  \n",
       "\n",
       "[377110 rows x 4 columns]"
      ]
     },
     "execution_count": 2,
     "metadata": {},
     "output_type": "execute_result"
    }
   ],
   "source": [
    "pd.read_csv(\"/home/mlmi-matthias/physionet.org/files/mimic-cxr-jpg/2.0.0/mimic-cxr-2.0.0-split.csv\")"
   ]
  },
  {
   "cell_type": "code",
   "execution_count": 16,
   "metadata": {},
   "outputs": [],
   "source": [
    "from tqdm import tqdm as tqdm\n",
    "import pandas as pd\n",
    "import os"
   ]
  },
  {
   "cell_type": "code",
   "execution_count": 17,
   "metadata": {},
   "outputs": [
    {
     "data": {
      "text/html": [
       "<div>\n",
       "<style scoped>\n",
       "    .dataframe tbody tr th:only-of-type {\n",
       "        vertical-align: middle;\n",
       "    }\n",
       "\n",
       "    .dataframe tbody tr th {\n",
       "        vertical-align: top;\n",
       "    }\n",
       "\n",
       "    .dataframe thead th {\n",
       "        text-align: right;\n",
       "    }\n",
       "</style>\n",
       "<table border=\"1\" class=\"dataframe\">\n",
       "  <thead>\n",
       "    <tr style=\"text-align: right;\">\n",
       "      <th></th>\n",
       "      <th>subject_id</th>\n",
       "      <th>study_id</th>\n",
       "      <th>Atelectasis</th>\n",
       "      <th>Cardiomegaly</th>\n",
       "      <th>Consolidation</th>\n",
       "      <th>Edema</th>\n",
       "      <th>Enlarged Cardiomediastinum</th>\n",
       "      <th>Fracture</th>\n",
       "      <th>Lung Lesion</th>\n",
       "      <th>Lung Opacity</th>\n",
       "      <th>No Finding</th>\n",
       "      <th>Pleural Effusion</th>\n",
       "      <th>Pleural Other</th>\n",
       "      <th>Pneumonia</th>\n",
       "      <th>Pneumothorax</th>\n",
       "      <th>Support Devices</th>\n",
       "    </tr>\n",
       "  </thead>\n",
       "  <tbody>\n",
       "    <tr>\n",
       "      <th>0</th>\n",
       "      <td>10000032</td>\n",
       "      <td>50414267</td>\n",
       "      <td>NaN</td>\n",
       "      <td>NaN</td>\n",
       "      <td>NaN</td>\n",
       "      <td>NaN</td>\n",
       "      <td>NaN</td>\n",
       "      <td>NaN</td>\n",
       "      <td>NaN</td>\n",
       "      <td>NaN</td>\n",
       "      <td>1.0</td>\n",
       "      <td>NaN</td>\n",
       "      <td>NaN</td>\n",
       "      <td>NaN</td>\n",
       "      <td>NaN</td>\n",
       "      <td>NaN</td>\n",
       "    </tr>\n",
       "    <tr>\n",
       "      <th>1</th>\n",
       "      <td>10000032</td>\n",
       "      <td>53189527</td>\n",
       "      <td>NaN</td>\n",
       "      <td>NaN</td>\n",
       "      <td>NaN</td>\n",
       "      <td>NaN</td>\n",
       "      <td>NaN</td>\n",
       "      <td>NaN</td>\n",
       "      <td>NaN</td>\n",
       "      <td>NaN</td>\n",
       "      <td>1.0</td>\n",
       "      <td>NaN</td>\n",
       "      <td>NaN</td>\n",
       "      <td>NaN</td>\n",
       "      <td>NaN</td>\n",
       "      <td>NaN</td>\n",
       "    </tr>\n",
       "    <tr>\n",
       "      <th>2</th>\n",
       "      <td>10000032</td>\n",
       "      <td>53911762</td>\n",
       "      <td>NaN</td>\n",
       "      <td>NaN</td>\n",
       "      <td>NaN</td>\n",
       "      <td>NaN</td>\n",
       "      <td>NaN</td>\n",
       "      <td>NaN</td>\n",
       "      <td>NaN</td>\n",
       "      <td>NaN</td>\n",
       "      <td>1.0</td>\n",
       "      <td>NaN</td>\n",
       "      <td>NaN</td>\n",
       "      <td>NaN</td>\n",
       "      <td>NaN</td>\n",
       "      <td>NaN</td>\n",
       "    </tr>\n",
       "    <tr>\n",
       "      <th>3</th>\n",
       "      <td>10000032</td>\n",
       "      <td>56699142</td>\n",
       "      <td>NaN</td>\n",
       "      <td>NaN</td>\n",
       "      <td>NaN</td>\n",
       "      <td>NaN</td>\n",
       "      <td>NaN</td>\n",
       "      <td>NaN</td>\n",
       "      <td>NaN</td>\n",
       "      <td>NaN</td>\n",
       "      <td>1.0</td>\n",
       "      <td>NaN</td>\n",
       "      <td>NaN</td>\n",
       "      <td>NaN</td>\n",
       "      <td>NaN</td>\n",
       "      <td>NaN</td>\n",
       "    </tr>\n",
       "    <tr>\n",
       "      <th>4</th>\n",
       "      <td>10000764</td>\n",
       "      <td>57375967</td>\n",
       "      <td>NaN</td>\n",
       "      <td>NaN</td>\n",
       "      <td>1.0</td>\n",
       "      <td>NaN</td>\n",
       "      <td>NaN</td>\n",
       "      <td>NaN</td>\n",
       "      <td>NaN</td>\n",
       "      <td>NaN</td>\n",
       "      <td>NaN</td>\n",
       "      <td>NaN</td>\n",
       "      <td>NaN</td>\n",
       "      <td>-1.0</td>\n",
       "      <td>NaN</td>\n",
       "      <td>NaN</td>\n",
       "    </tr>\n",
       "  </tbody>\n",
       "</table>\n",
       "</div>"
      ],
      "text/plain": [
       "   subject_id  study_id  Atelectasis  Cardiomegaly  Consolidation  Edema  \\\n",
       "0    10000032  50414267          NaN           NaN            NaN    NaN   \n",
       "1    10000032  53189527          NaN           NaN            NaN    NaN   \n",
       "2    10000032  53911762          NaN           NaN            NaN    NaN   \n",
       "3    10000032  56699142          NaN           NaN            NaN    NaN   \n",
       "4    10000764  57375967          NaN           NaN            1.0    NaN   \n",
       "\n",
       "   Enlarged Cardiomediastinum  Fracture  Lung Lesion  Lung Opacity  \\\n",
       "0                         NaN       NaN          NaN           NaN   \n",
       "1                         NaN       NaN          NaN           NaN   \n",
       "2                         NaN       NaN          NaN           NaN   \n",
       "3                         NaN       NaN          NaN           NaN   \n",
       "4                         NaN       NaN          NaN           NaN   \n",
       "\n",
       "   No Finding  Pleural Effusion  Pleural Other  Pneumonia  Pneumothorax  \\\n",
       "0         1.0               NaN            NaN        NaN           NaN   \n",
       "1         1.0               NaN            NaN        NaN           NaN   \n",
       "2         1.0               NaN            NaN        NaN           NaN   \n",
       "3         1.0               NaN            NaN        NaN           NaN   \n",
       "4         NaN               NaN            NaN       -1.0           NaN   \n",
       "\n",
       "   Support Devices  \n",
       "0              NaN  \n",
       "1              NaN  \n",
       "2              NaN  \n",
       "3              NaN  \n",
       "4              NaN  "
      ]
     },
     "execution_count": 17,
     "metadata": {},
     "output_type": "execute_result"
    }
   ],
   "source": [
    "reports_df = pd.read_csv('/home/mlmi-matthias/Caghan/chexpert/mimic-cxr-2.0.0-chexpert.csv')\n",
    "reports_df.head()"
   ]
  },
  {
   "cell_type": "code",
   "execution_count": 18,
   "metadata": {},
   "outputs": [],
   "source": [
    "MIMIC_CXR_SPLIT_PATH = '/home/mlmi-matthias/physionet.org/files/mimic-cxr-jpg/2.0.0/mimic-cxr-2.0.0-split.csv'\n",
    "MIMIC_CXR_METADATA_PATH = '/home/mlmi-matthias/physionet.org/files/mimic-cxr-jpg/2.0.0/mimic-cxr-2.0.0-metadata.csv.gz'"
   ]
  },
  {
   "cell_type": "code",
   "execution_count": 19,
   "metadata": {},
   "outputs": [],
   "source": [
    "#Read CSVs into pandas dataframes\n",
    "split_df        = pd.read_csv(MIMIC_CXR_SPLIT_PATH)\n",
    "metadata_df     = pd.read_csv(MIMIC_CXR_METADATA_PATH)\n",
    "#reports_df      = pd.read_csv(MIMIC_REPORTS)\n",
    "\n"
   ]
  },
  {
   "cell_type": "code",
   "execution_count": 20,
   "metadata": {},
   "outputs": [
    {
     "data": {
      "text/html": [
       "<div>\n",
       "<style scoped>\n",
       "    .dataframe tbody tr th:only-of-type {\n",
       "        vertical-align: middle;\n",
       "    }\n",
       "\n",
       "    .dataframe tbody tr th {\n",
       "        vertical-align: top;\n",
       "    }\n",
       "\n",
       "    .dataframe thead th {\n",
       "        text-align: right;\n",
       "    }\n",
       "</style>\n",
       "<table border=\"1\" class=\"dataframe\">\n",
       "  <thead>\n",
       "    <tr style=\"text-align: right;\">\n",
       "      <th></th>\n",
       "      <th>dicom_id</th>\n",
       "      <th>subject_id</th>\n",
       "      <th>study_id</th>\n",
       "      <th>PerformedProcedureStepDescription</th>\n",
       "      <th>ViewPosition</th>\n",
       "      <th>Rows</th>\n",
       "      <th>Columns</th>\n",
       "      <th>StudyDate</th>\n",
       "      <th>StudyTime</th>\n",
       "      <th>ProcedureCodeSequence_CodeMeaning</th>\n",
       "      <th>ViewCodeSequence_CodeMeaning</th>\n",
       "      <th>PatientOrientationCodeSequence_CodeMeaning</th>\n",
       "    </tr>\n",
       "  </thead>\n",
       "  <tbody>\n",
       "    <tr>\n",
       "      <th>0</th>\n",
       "      <td>02aa804e-bde0afdd-112c0b34-7bc16630-4e384014</td>\n",
       "      <td>10000032</td>\n",
       "      <td>50414267</td>\n",
       "      <td>CHEST (PA AND LAT)</td>\n",
       "      <td>PA</td>\n",
       "      <td>3056</td>\n",
       "      <td>2544</td>\n",
       "      <td>21800506</td>\n",
       "      <td>213014.531</td>\n",
       "      <td>CHEST (PA AND LAT)</td>\n",
       "      <td>postero-anterior</td>\n",
       "      <td>Erect</td>\n",
       "    </tr>\n",
       "    <tr>\n",
       "      <th>1</th>\n",
       "      <td>174413ec-4ec4c1f7-34ea26b7-c5f994f8-79ef1962</td>\n",
       "      <td>10000032</td>\n",
       "      <td>50414267</td>\n",
       "      <td>CHEST (PA AND LAT)</td>\n",
       "      <td>LATERAL</td>\n",
       "      <td>3056</td>\n",
       "      <td>2544</td>\n",
       "      <td>21800506</td>\n",
       "      <td>213014.531</td>\n",
       "      <td>CHEST (PA AND LAT)</td>\n",
       "      <td>lateral</td>\n",
       "      <td>Erect</td>\n",
       "    </tr>\n",
       "    <tr>\n",
       "      <th>2</th>\n",
       "      <td>2a2277a9-b0ded155-c0de8eb9-c124d10e-82c5caab</td>\n",
       "      <td>10000032</td>\n",
       "      <td>53189527</td>\n",
       "      <td>CHEST (PA AND LAT)</td>\n",
       "      <td>PA</td>\n",
       "      <td>3056</td>\n",
       "      <td>2544</td>\n",
       "      <td>21800626</td>\n",
       "      <td>165500.312</td>\n",
       "      <td>CHEST (PA AND LAT)</td>\n",
       "      <td>postero-anterior</td>\n",
       "      <td>Erect</td>\n",
       "    </tr>\n",
       "    <tr>\n",
       "      <th>3</th>\n",
       "      <td>e084de3b-be89b11e-20fe3f9f-9c8d8dfe-4cfd202c</td>\n",
       "      <td>10000032</td>\n",
       "      <td>53189527</td>\n",
       "      <td>CHEST (PA AND LAT)</td>\n",
       "      <td>LATERAL</td>\n",
       "      <td>3056</td>\n",
       "      <td>2544</td>\n",
       "      <td>21800626</td>\n",
       "      <td>165500.312</td>\n",
       "      <td>CHEST (PA AND LAT)</td>\n",
       "      <td>lateral</td>\n",
       "      <td>Erect</td>\n",
       "    </tr>\n",
       "    <tr>\n",
       "      <th>4</th>\n",
       "      <td>68b5c4b1-227d0485-9cc38c3f-7b84ab51-4b472714</td>\n",
       "      <td>10000032</td>\n",
       "      <td>53911762</td>\n",
       "      <td>CHEST (PORTABLE AP)</td>\n",
       "      <td>AP</td>\n",
       "      <td>2705</td>\n",
       "      <td>2539</td>\n",
       "      <td>21800723</td>\n",
       "      <td>80556.875</td>\n",
       "      <td>CHEST (PORTABLE AP)</td>\n",
       "      <td>antero-posterior</td>\n",
       "      <td>NaN</td>\n",
       "    </tr>\n",
       "  </tbody>\n",
       "</table>\n",
       "</div>"
      ],
      "text/plain": [
       "                                       dicom_id  subject_id  study_id  \\\n",
       "0  02aa804e-bde0afdd-112c0b34-7bc16630-4e384014    10000032  50414267   \n",
       "1  174413ec-4ec4c1f7-34ea26b7-c5f994f8-79ef1962    10000032  50414267   \n",
       "2  2a2277a9-b0ded155-c0de8eb9-c124d10e-82c5caab    10000032  53189527   \n",
       "3  e084de3b-be89b11e-20fe3f9f-9c8d8dfe-4cfd202c    10000032  53189527   \n",
       "4  68b5c4b1-227d0485-9cc38c3f-7b84ab51-4b472714    10000032  53911762   \n",
       "\n",
       "  PerformedProcedureStepDescription ViewPosition  Rows  Columns  StudyDate  \\\n",
       "0                CHEST (PA AND LAT)           PA  3056     2544   21800506   \n",
       "1                CHEST (PA AND LAT)      LATERAL  3056     2544   21800506   \n",
       "2                CHEST (PA AND LAT)           PA  3056     2544   21800626   \n",
       "3                CHEST (PA AND LAT)      LATERAL  3056     2544   21800626   \n",
       "4               CHEST (PORTABLE AP)           AP  2705     2539   21800723   \n",
       "\n",
       "    StudyTime ProcedureCodeSequence_CodeMeaning ViewCodeSequence_CodeMeaning  \\\n",
       "0  213014.531                CHEST (PA AND LAT)             postero-anterior   \n",
       "1  213014.531                CHEST (PA AND LAT)                      lateral   \n",
       "2  165500.312                CHEST (PA AND LAT)             postero-anterior   \n",
       "3  165500.312                CHEST (PA AND LAT)                      lateral   \n",
       "4   80556.875               CHEST (PORTABLE AP)             antero-posterior   \n",
       "\n",
       "  PatientOrientationCodeSequence_CodeMeaning  \n",
       "0                                      Erect  \n",
       "1                                      Erect  \n",
       "2                                      Erect  \n",
       "3                                      Erect  \n",
       "4                                        NaN  "
      ]
     },
     "execution_count": 20,
     "metadata": {},
     "output_type": "execute_result"
    }
   ],
   "source": [
    "metadata_df.head()"
   ]
  },
  {
   "cell_type": "code",
   "execution_count": 21,
   "metadata": {},
   "outputs": [],
   "source": [
    "# Combine dataset splitting with metadata\n",
    "combined = pd.concat((split_df, metadata_df.iloc[:, 3:]), axis=1)\n",
    "\n",
    "# Use PA or AP view position only\n",
    "combined = combined.loc[combined['ViewPosition'].isin(['PA', 'AP'])]\n"
   ]
  },
  {
   "cell_type": "code",
   "execution_count": 22,
   "metadata": {},
   "outputs": [
    {
     "data": {
      "text/plain": [
       "array(['train', 'validate', 'test'], dtype=object)"
      ]
     },
     "execution_count": 22,
     "metadata": {},
     "output_type": "execute_result"
    }
   ],
   "source": [
    "combined[\"split\"].unique()"
   ]
  },
  {
   "cell_type": "code",
   "execution_count": 23,
   "metadata": {},
   "outputs": [],
   "source": [
    "mimic_root = '/home/mlmi-matthias/physionet.org/'"
   ]
  },
  {
   "cell_type": "code",
   "execution_count": 24,
   "metadata": {},
   "outputs": [],
   "source": [
    "#report_sectioned = pd.read_csv('/home/mlmi-matthias/Caghan/mimic-cxr-sections/mimic_cxr_sectioned.csv')\n",
    "#report_sectioned"
   ]
  },
  {
   "cell_type": "code",
   "execution_count": 25,
   "metadata": {},
   "outputs": [],
   "source": [
    "#report_sectioned.loc[report_sectioned['study'] == \"s50414267\"][\"findings\"].values[0]"
   ]
  },
  {
   "cell_type": "code",
   "execution_count": 26,
   "metadata": {},
   "outputs": [],
   "source": [
    "#combined[\"\"]"
   ]
  },
  {
   "cell_type": "code",
   "execution_count": 27,
   "metadata": {},
   "outputs": [],
   "source": [
    "#report_sectioned[report_sectioned[\"study\"]=='s'+\"51966317\"]"
   ]
  },
  {
   "cell_type": "code",
   "execution_count": 28,
   "metadata": {},
   "outputs": [],
   "source": [
    "reports_sections = pd.read_csv(\"/home/mlmi-matthias/Caghan/mimic-cxr/txt/sectioned_outputs/mimic_cxr_sections.csv\",\n",
    "            names=[\"study_id\",\"report\"])"
   ]
  },
  {
   "cell_type": "code",
   "execution_count": 29,
   "metadata": {},
   "outputs": [
    {
     "data": {
      "text/html": [
       "<div>\n",
       "<style scoped>\n",
       "    .dataframe tbody tr th:only-of-type {\n",
       "        vertical-align: middle;\n",
       "    }\n",
       "\n",
       "    .dataframe tbody tr th {\n",
       "        vertical-align: top;\n",
       "    }\n",
       "\n",
       "    .dataframe thead th {\n",
       "        text-align: right;\n",
       "    }\n",
       "</style>\n",
       "<table border=\"1\" class=\"dataframe\">\n",
       "  <thead>\n",
       "    <tr style=\"text-align: right;\">\n",
       "      <th></th>\n",
       "      <th>study_id</th>\n",
       "      <th>report</th>\n",
       "    </tr>\n",
       "  </thead>\n",
       "  <tbody>\n",
       "    <tr>\n",
       "      <th>0</th>\n",
       "      <td>s56699142</td>\n",
       "      <td>No acute cardiopulmonary process.</td>\n",
       "    </tr>\n",
       "    <tr>\n",
       "      <th>1</th>\n",
       "      <td>s50414267</td>\n",
       "      <td>No acute cardiopulmonary process.</td>\n",
       "    </tr>\n",
       "    <tr>\n",
       "      <th>2</th>\n",
       "      <td>s53189527</td>\n",
       "      <td>No acute cardiopulmonary abnormality.</td>\n",
       "    </tr>\n",
       "    <tr>\n",
       "      <th>3</th>\n",
       "      <td>s53911762</td>\n",
       "      <td>No acute intrathoracic process.</td>\n",
       "    </tr>\n",
       "    <tr>\n",
       "      <th>4</th>\n",
       "      <td>s57375967</td>\n",
       "      <td>Focal consolidation at the left lung base, pos...</td>\n",
       "    </tr>\n",
       "    <tr>\n",
       "      <th>...</th>\n",
       "      <td>...</td>\n",
       "      <td>...</td>\n",
       "    </tr>\n",
       "    <tr>\n",
       "      <th>227830</th>\n",
       "      <td>s58497551</td>\n",
       "      <td>Portable AP radiograph of the chest is demonst...</td>\n",
       "    </tr>\n",
       "    <tr>\n",
       "      <th>227831</th>\n",
       "      <td>s57132437</td>\n",
       "      <td>No acute cardiothoracic process.</td>\n",
       "    </tr>\n",
       "    <tr>\n",
       "      <th>227832</th>\n",
       "      <td>s58971208</td>\n",
       "      <td>Slight interval worsening of right lower lung ...</td>\n",
       "    </tr>\n",
       "    <tr>\n",
       "      <th>227833</th>\n",
       "      <td>s55368167</td>\n",
       "      <td>There has been interval extubation and improve...</td>\n",
       "    </tr>\n",
       "    <tr>\n",
       "      <th>227834</th>\n",
       "      <td>s58621812</td>\n",
       "      <td>Appropriately positioned ET and NG tubes.  Bib...</td>\n",
       "    </tr>\n",
       "  </tbody>\n",
       "</table>\n",
       "<p>227835 rows × 2 columns</p>\n",
       "</div>"
      ],
      "text/plain": [
       "         study_id                                             report\n",
       "0       s56699142                  No acute cardiopulmonary process.\n",
       "1       s50414267                  No acute cardiopulmonary process.\n",
       "2       s53189527              No acute cardiopulmonary abnormality.\n",
       "3       s53911762                    No acute intrathoracic process.\n",
       "4       s57375967  Focal consolidation at the left lung base, pos...\n",
       "...           ...                                                ...\n",
       "227830  s58497551  Portable AP radiograph of the chest is demonst...\n",
       "227831  s57132437                   No acute cardiothoracic process.\n",
       "227832  s58971208  Slight interval worsening of right lower lung ...\n",
       "227833  s55368167  There has been interval extubation and improve...\n",
       "227834  s58621812  Appropriately positioned ET and NG tubes.  Bib...\n",
       "\n",
       "[227835 rows x 2 columns]"
      ]
     },
     "execution_count": 29,
     "metadata": {},
     "output_type": "execute_result"
    }
   ],
   "source": [
    "reports_sections"
   ]
  },
  {
   "cell_type": "code",
   "execution_count": 30,
   "metadata": {},
   "outputs": [
    {
     "name": "stdout",
     "output_type": "stream",
     "text": [
      "Processing Dataset: 'validate'\n"
     ]
    },
    {
     "name": "stderr",
     "output_type": "stream",
     "text": [
      "100%|████████████████████████████████████████████████████████████████████████████████████████████████████████████████████████████████| 1959/1959 [00:22<00:00, 88.36it/s]\n"
     ]
    },
    {
     "name": "stdout",
     "output_type": "stream",
     "text": [
      "Processing Dataset: 'test'\n"
     ]
    },
    {
     "name": "stderr",
     "output_type": "stream",
     "text": [
      "100%|████████████████████████████████████████████████████████████████████████████████████████████████████████████████████████████████| 3403/3403 [00:38<00:00, 89.50it/s]\n"
     ]
    },
    {
     "name": "stdout",
     "output_type": "stream",
     "text": [
      "Processing Dataset: 'train'\n"
     ]
    },
    {
     "name": "stderr",
     "output_type": "stream",
     "text": [
      " 15%|███████████████████▎                                                                                                         | 36862/237972 [06:51<35:58, 93.16it/s]"
     ]
    },
    {
     "name": "stdout",
     "output_type": "stream",
     "text": [
      "36854: study [58235663] is missing...\n"
     ]
    },
    {
     "name": "stderr",
     "output_type": "stream",
     "text": [
      " 26%|█████████████████████████████████                                                                                            | 62826/237972 [11:39<31:50, 91.67it/s]"
     ]
    },
    {
     "name": "stdout",
     "output_type": "stream",
     "text": [
      "62808: study [50798377] is missing...\n"
     ]
    },
    {
     "name": "stderr",
     "output_type": "stream",
     "text": [
      " 44%|███████████████████████████████████████████████████████▏                                                                    | 105799/237972 [19:36<23:48, 92.49it/s]"
     ]
    },
    {
     "name": "stdout",
     "output_type": "stream",
     "text": [
      "105786: study [54168089] is missing...\n"
     ]
    },
    {
     "name": "stderr",
     "output_type": "stream",
     "text": [
      " 58%|███████████████████████████████████████████████████████████████████████▊                                                    | 137925/237972 [25:38<18:17, 91.13it/s]"
     ]
    },
    {
     "name": "stdout",
     "output_type": "stream",
     "text": [
      "137909: study [53071062] is missing...\n",
      "137910: study [53071062] is missing...\n"
     ]
    },
    {
     "name": "stderr",
     "output_type": "stream",
     "text": [
      " 62%|████████████████████████████████████████████████████████████████████████████▊                                               | 147467/237972 [27:26<16:53, 89.26it/s]"
     ]
    },
    {
     "name": "stdout",
     "output_type": "stream",
     "text": [
      "147452: study [56724958] is missing...\n"
     ]
    },
    {
     "name": "stderr",
     "output_type": "stream",
     "text": [
      " 63%|██████████████████████████████████████████████████████████████████████████████▌                                             | 150666/237972 [28:02<16:18, 89.19it/s]"
     ]
    },
    {
     "name": "stdout",
     "output_type": "stream",
     "text": [
      "150652: study [54231141] is missing...\n"
     ]
    },
    {
     "name": "stderr",
     "output_type": "stream",
     "text": [
      " 76%|██████████████████████████████████████████████████████████████████████████████████████████████▎                             | 181103/237972 [33:52<10:26, 90.82it/s]"
     ]
    },
    {
     "name": "stdout",
     "output_type": "stream",
     "text": [
      "181091: study [53607029] is missing...\n"
     ]
    },
    {
     "name": "stderr",
     "output_type": "stream",
     "text": [
      " 93%|███████████████████████████████████████████████████████████████████████████████████████████████████████████████████▉        | 222398/237972 [41:42<02:46, 93.79it/s]"
     ]
    },
    {
     "name": "stdout",
     "output_type": "stream",
     "text": [
      "222387: study [52035334] is missing...\n",
      "222388: study [52035334] is missing...\n"
     ]
    },
    {
     "name": "stderr",
     "output_type": "stream",
     "text": [
      "100%|████████████████████████████████████████████████████████████████████████████████████████████████████████████████████████████| 237972/237972 [44:36<00:00, 88.92it/s]\n"
     ]
    }
   ],
   "source": [
    "# No reports\n",
    "missing_studies = [\n",
    "    58235663,\n",
    "    50798377,\n",
    "    54168089,\n",
    "    53071062,\n",
    "    56724958,\n",
    "    54231141,\n",
    "    53607029,\n",
    "    52035334,\n",
    "]\n",
    "\n",
    "\n",
    "for mode in ['validate','test','train']:\n",
    "\n",
    "    print(f'Processing Dataset: \\'{mode}\\'')\n",
    "\n",
    "    df = combined.loc[combined['split'] == mode]\n",
    "    records = []\n",
    "\n",
    "    for idx in tqdm(range(len(df))):\n",
    "        dicom_id, study_id, subject_id, split = df.iloc[idx, :4]\n",
    "        img_path = f'files/mimic-cxr-jpg/2.0.0/files/p{str(subject_id)[:2]}/p{str(subject_id)}/s{str(study_id)}/{dicom_id}.jpg'\n",
    "\n",
    "        # Sanity check image exists\n",
    "        if not os.path.exists(os.path.join(mimic_root, img_path)):\n",
    "            print(f'IMAGE MISSING: {img_path}')\n",
    "            continue\n",
    "\n",
    "        if study_id in missing_studies:\n",
    "            print(f'{idx}: study [{study_id}] is missing...')\n",
    "            continue\n",
    "            \n",
    "        label = reports_df.loc[reports_df['study_id'] == study_id]\n",
    "        label.insert(0, 'img_path', img_path)\n",
    "        \n",
    "        #print(study_id)\n",
    "        try:\n",
    "            matched_report = reports_sections.loc[reports_sections['study_id'] == \"s\"+str(study_id)]#[\"findings\"]#.values[0]\n",
    "            \n",
    "            report = matched_report[\"report\"].values[0]\n",
    "            #print(\"matched_report\")\n",
    "\n",
    "            #print\n",
    "\n",
    "            label.insert(1, 'report', report)\n",
    "    \n",
    "        except:\n",
    "            print(\"Problem with idx\", idx, \"study_id : \",study_id)\n",
    "            print(\"Problem path : \",img_path)\n",
    "\n",
    "        records.append(label)\n",
    "        \n",
    "    records_df = pd.concat(records)\n",
    "    #records_df = records_df.drop(['Study'], axis=1)\n",
    "    records_df.to_csv(f'MIMIC_AP_PA_{mode}.csv', index=False)\n",
    "\n",
    "        "
   ]
  },
  {
   "cell_type": "code",
   "execution_count": null,
   "metadata": {},
   "outputs": [],
   "source": []
  },
  {
   "cell_type": "code",
   "execution_count": null,
   "metadata": {},
   "outputs": [],
   "source": [
    "pd.read_csv('MIMIC_AP_PA_test.csv')"
   ]
  },
  {
   "cell_type": "code",
   "execution_count": null,
   "metadata": {},
   "outputs": [],
   "source": [
    "from PIL import Image"
   ]
  },
  {
   "cell_type": "code",
   "execution_count": null,
   "metadata": {},
   "outputs": [],
   "source": [
    "Image.open(os.path.join(mimic_root,))"
   ]
  },
  {
   "cell_type": "code",
   "execution_count": null,
   "metadata": {},
   "outputs": [],
   "source": []
  }
 ],
 "metadata": {
  "kernelspec": {
   "display_name": "Python 3 (ipykernel)",
   "language": "python",
   "name": "python3"
  },
  "language_info": {
   "codemirror_mode": {
    "name": "ipython",
    "version": 3
   },
   "file_extension": ".py",
   "mimetype": "text/x-python",
   "name": "python",
   "nbconvert_exporter": "python",
   "pygments_lexer": "ipython3",
   "version": "3.9.12"
  },
  "vscode": {
   "interpreter": {
    "hash": "892a7f8aeabe86b99d45932805d162784b758c544538f3ce4737e4a115db3cfd"
   }
  }
 },
 "nbformat": 4,
 "nbformat_minor": 2
}
