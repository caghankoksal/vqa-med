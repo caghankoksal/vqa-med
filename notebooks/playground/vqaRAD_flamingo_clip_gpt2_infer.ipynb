{
 "cells": [
  {
   "cell_type": "code",
   "execution_count": 1,
   "metadata": {},
   "outputs": [
    {
     "name": "stderr",
     "output_type": "stream",
     "text": [
      "/home/andrei/anaconda3/envs/mlmi/lib/python3.10/site-packages/tqdm/auto.py:22: TqdmWarning: IProgress not found. Please update jupyter and ipywidgets. See https://ipywidgets.readthedocs.io/en/stable/user_install.html\n",
      "  from .autonotebook import tqdm as notebook_tqdm\n",
      "Global seed set to 42\n"
     ]
    }
   ],
   "source": [
    "import sys \n",
    "import torch\n",
    "sys.path.append('../..')\n",
    "\n",
    "import os\n",
    "import pytorch_lightning as pl\n",
    "from src.datasets.vqa_rad_dataset import VQRadDataModule\n",
    "from src.models.multimodal.flamingo_module import FlamingoModule\n",
    "from tqdm import tqdm\n",
    "\n",
    "from pytorch_lightning import Trainer, seed_everything\n",
    "import torchvision.transforms as T\n",
    "\n",
    "from pytorch_lightning.loggers import CometLogger\n",
    "from pytorch_lightning.callbacks import LearningRateMonitor\n",
    "from pytorch_lightning import loggers as pl_loggers\n",
    "\n",
    "%load_ext autoreload\n",
    "%autoreload 2\n",
    "\n",
    "seed_everything(42, workers=True)\n",
    "\n",
    "img_mean = (0.48,0.48,0.48)\n",
    "img_std = (0.265,0.265,0.265)\n",
    "\n",
    "transforms = {'train':\n",
    "    T.Compose(\n",
    "    [\n",
    "        # T.RandomRotation(10),\n",
    "        T.ToTensor(),\n",
    "        # T.Normalize(mean=img_mean, std=img_std)\n",
    "    ]),\n",
    "    'val':\n",
    "    T.Compose(\n",
    "    [\n",
    "        # T.RandomRotation(10),\n",
    "        T.ToTensor(),\n",
    "        # T.Normalize(mean=img_mean, std=img_std)\n",
    "    ]),\n",
    "    'test':\n",
    "    T.Compose(\n",
    "    [\n",
    "        T.ToTensor(),\n",
    "        # T.Normalize(mean=img_mean, std=img_std)\n",
    "    ])\n",
    "}\n"
   ]
  },
  {
   "cell_type": "code",
   "execution_count": 2,
   "metadata": {},
   "outputs": [
    {
     "name": "stdout",
     "output_type": "stream",
     "text": [
      "There are 794 QA pairs in VQA-RAD dataset\n",
      "Dataset root: /home/andrei/mlmi/home/mlmi-matthias/Data/VQA_RAD_preprocessed/\n",
      "Loading all images into memory... for train\n",
      "Found 107 images\n",
      "Dataset root: /home/andrei/mlmi/home/mlmi-matthias/Data/VQA_RAD_preprocessed/\n",
      "Loading all images into memory... for val\n",
      "Found 107 images\n",
      "Dataset root: /home/andrei/mlmi/home/mlmi-matthias/Data/VQA_RAD_preprocessed/\n",
      "Loading all images into memory... for test\n",
      "Found 107 images\n"
     ]
    }
   ],
   "source": [
    "# Hyperparameters\n",
    "NUM_DATA_WORKERS  = 8\n",
    "ONLY_IMAGES = False\n",
    "BATCH_SIZE = 1\n",
    "NUM_EPOCHS = 10\n",
    "LIMIT_NUM_SAMPLES = None\n",
    "\n",
    "ACCELERATOR = \"gpu\"\n",
    "DEVICES = [4]\n",
    "# ACCELERATOR = \"cpu\"\n",
    "# DEVICES = 1\n",
    "DATASET_ROOT = '/home/andrei/mlmi/home/mlmi-matthias/Data/VQA_RAD_preprocessed/'\n",
    "PRETRAINED_CLIP_PATH = '/home/andrei/mlmi/home/mlmi-matthias/Caghan/pretrained_models/PubMedCLIP_ViT32.pth'\n",
    "PRETRAINED_GPT2_PATH = \"/home/andrei/mlmi/home/mlmi-matthias/Caghan/pretrained_models/gpt2-pytorch_model.bin\"\n",
    "\n",
    "IMAGE_TYPE = \"jpg\"\n",
    "SHUFFLE = True\n",
    "TOKENIZER  = \"gpt2\"\n",
    "LOAD_IN_MEM = True\n",
    "PREPROCESSED = True\n",
    "\n",
    "vqarad_datamodule = VQRadDataModule(\n",
    "                                batch_size=BATCH_SIZE, transforms=transforms, root=DATASET_ROOT,\n",
    "                                limit_num_samples=LIMIT_NUM_SAMPLES, num_workers=NUM_DATA_WORKERS, shuffle=SHUFFLE,\n",
    "                                tokenizer=\"gpt2\", preprocessed=PREPROCESSED, load_in_memory=LOAD_IN_MEM\n",
    ")"
   ]
  },
  {
   "cell_type": "code",
   "execution_count": 46,
   "metadata": {},
   "outputs": [],
   "source": [
    "train_loader = vqarad_datamodule.train_dataloader()\n",
    "val_loader = vqarad_datamodule.val_dataloader()\n",
    "test_loader = vqarad_datamodule.test_dataloader()"
   ]
  },
  {
   "cell_type": "code",
   "execution_count": 53,
   "metadata": {},
   "outputs": [
    {
     "name": "stdout",
     "output_type": "stream",
     "text": [
      "LANGUAGE_MODEL :  gpt2 \n",
      "NUM_TOKENS :  50260 \n",
      "FLAMINGO_EMBED_DIM :  768 \n",
      "DEPTH :  12 \n",
      "NUM_HEADS :  8 \n",
      "ATT_HEAD_DIM :  64 \n",
      "CROOS_ATT_EVERY :  3 \n",
      "MEDIA_TOKEN_ID :  50258 \n",
      "PERCEIVER_NUM_LATENTS :  64 \n",
      "PERCEIVER_DEPTH :  2 \n",
      "IMAGE_ENCODER :  clip \n",
      "PRETRAINED_CLIP_PATH :  /home/andrei/mlmi/home/mlmi-matthias/Caghan/pretrained_models/PubMedCLIP_ViT32.pth \n",
      "PRETRAINED_GPT2_PATH :  /home/andrei/mlmi/home/mlmi-matthias/Caghan/pretrained_models/gpt2-pytorch_model.bin \n",
      "\n",
      "Pretrained clip is being loaded\n",
      "Flamingo is being initialized with  gpt2  as language model\n",
      "GPT 2 Weights are loading...\n",
      "Loaded GPT2 weights and Embeddings num_weights loaded :  156\n"
     ]
    }
   ],
   "source": [
    "# MODEL HPRAMS\n",
    "VOCAB_SIZE_OF_TOKENIZER = 50257 # mimic_datamodule.train_dataset.tokenizer.vocab_size\n",
    "LANGUAGE_MODEL = 'gpt2'\n",
    "NUM_TOKENS = VOCAB_SIZE_OF_TOKENIZER +3 if LANGUAGE_MODEL==\"gpt2\" else 31092\n",
    "FLAMINGO_EMBED_DIM = 768\n",
    "DEPTH = 12\n",
    "NUM_HEADS = 8\n",
    "ATT_HEAD_DIM = 64\n",
    "CROOS_ATT_EVERY=3\n",
    "MEDIA_TOKEN_ID = vqarad_datamodule.train_dataset.tokenizer.\\\n",
    "    all_special_ids[vqarad_datamodule.train_dataset.tokenizer.all_special_tokens.index('<image>')]\n",
    "PERCEIVER_NUM_LATENTS = 64\n",
    "PERCEIVER_DEPTH = 2\n",
    "IMAGE_ENCODER = \"clip\"\n",
    "\n",
    "\n",
    "\n",
    "print(\"LANGUAGE_MODEL : \",LANGUAGE_MODEL, \"\\n\"\n",
    "        \"NUM_TOKENS : \",NUM_TOKENS, \"\\n\"\n",
    "        \"FLAMINGO_EMBED_DIM : \",FLAMINGO_EMBED_DIM, \"\\n\"\n",
    "        \"DEPTH : \",DEPTH, \"\\n\"\n",
    "        \"NUM_HEADS : \",NUM_HEADS, \"\\n\"\n",
    "        \"ATT_HEAD_DIM : \",ATT_HEAD_DIM, \"\\n\"\n",
    "        \"CROOS_ATT_EVERY : \",CROOS_ATT_EVERY, \"\\n\"\n",
    "        \"MEDIA_TOKEN_ID : \",MEDIA_TOKEN_ID, \"\\n\"\n",
    "        \"PERCEIVER_NUM_LATENTS : \",PERCEIVER_NUM_LATENTS, \"\\n\"\n",
    "        \"PERCEIVER_DEPTH : \",PERCEIVER_DEPTH, \"\\n\"\n",
    "        \"IMAGE_ENCODER : \",IMAGE_ENCODER, \"\\n\"\n",
    "        \"PRETRAINED_CLIP_PATH : \",PRETRAINED_CLIP_PATH, \"\\n\"\n",
    "        \"PRETRAINED_GPT2_PATH : \",PRETRAINED_GPT2_PATH, \"\\n\")\n",
    "\n",
    "\n",
    "hyperparams = {\n",
    "    'pretrained_clip_path': PRETRAINED_CLIP_PATH,\n",
    "    'warmup_steps': 0,\n",
    "    'num_tokens': NUM_TOKENS,\n",
    "    'dim': FLAMINGO_EMBED_DIM,\n",
    "    'depth': DEPTH,\n",
    "    'num_heads': NUM_HEADS,\n",
    "    'dim_head': ATT_HEAD_DIM,\n",
    "    'cross_attn_every': CROOS_ATT_EVERY,\n",
    "    'media_token_id': MEDIA_TOKEN_ID,\n",
    "    'perceiver_num_latents': PERCEIVER_NUM_LATENTS,\n",
    "    'perceiver_depth': PERCEIVER_DEPTH,\n",
    "    'image_encoder': IMAGE_ENCODER,\n",
    "    'language_model': LANGUAGE_MODEL,\n",
    "    'pretrained_gpt2_path': PRETRAINED_GPT2_PATH,\n",
    "}\n",
    "\n",
    "\n",
    "model = FlamingoModule(**hyperparams)"
   ]
  },
  {
   "cell_type": "code",
   "execution_count": 54,
   "metadata": {},
   "outputs": [
    {
     "name": "stdout",
     "output_type": "stream",
     "text": [
      "Pretrained Flamingo Model is loaded from checkpoint :  /home/andrei/mlmi/home/mlmi-matthias/Andrei/mlmi-vqa/notebooks/lightning_logs/flamingo_clip_GPT2_FT_vqaRAD_ROCOback_all/checkpoints/epoch=78-val_loss=1.53-other_metric=0.00.ckpt\n"
     ]
    }
   ],
   "source": [
    "# CHECKPOINT_PATH = \"/home/andrei/mlmi/home/mlmi-matthias/Andrei/mlmi-vqa/notebooks/lightning_logs/flamingo_clip_GPT2_FT_vqaRAD_MIMICback_lr1e-4_Xray/checkpoints/epoch=5-val_loss=1.35-other_metric=0.00.ckpt\"\n",
    "# CHECKPOINT_PATH = \"/home/andrei/mlmi/home/mlmi-matthias/Andrei/mlmi-vqa/notebooks/lightning_logs/flamingo_clip_GPT2_FT_vqaRAD_MIMICback_all/checkpoints/epoch=59-val_loss=1.48-other_metric=0.00.ckpt\"\n",
    "CHECKPOINT_PATH = \"/home/andrei/mlmi/home/mlmi-matthias/Andrei/mlmi-vqa/notebooks/lightning_logs/flamingo_clip_GPT2_FT_vqaRAD_ROCOback_all/checkpoints/epoch=78-val_loss=1.53-other_metric=0.00.ckpt\"\n",
    "\n",
    "START_FROM_CHECKPOINT = True\n",
    "\n",
    "if START_FROM_CHECKPOINT:\n",
    "    print(\"Pretrained Flamingo Model is loaded from checkpoint : \",CHECKPOINT_PATH)\n",
    "    model.load_state_dict(torch.load(CHECKPOINT_PATH)[\"state_dict\"])"
   ]
  },
  {
   "cell_type": "code",
   "execution_count": 55,
   "metadata": {},
   "outputs": [],
   "source": [
    "import torch\n",
    "import torchvision\n",
    "import torchvision.transforms as T\n",
    "from PIL import Image\n",
    "from transformers import GPT2Tokenizer\n",
    "import numpy as np\n",
    "\n",
    "from torch import nn as nn\n",
    "import torch.nn.functional as F\n",
    "def generate(image, context, cur_model, ntok=20):\n",
    "    for _ in range(ntok):\n",
    "        out = cur_model({'image': image,'input_ids': context })\n",
    "        logits = out[:, -1, :]\n",
    "        indices_to_remove = logits < torch.topk(logits, 10)[0][..., -1, None]\n",
    "        logits[indices_to_remove] = np.NINF\n",
    "        next_tok = torch.multinomial(F.softmax(logits, dim=-1), num_samples=1).squeeze(1)\n",
    "        context = torch.cat([context, next_tok.unsqueeze(-1)], dim=-1)\n",
    "    return context\n",
    "\n",
    "\n",
    "tokenizer = vqarad_datamodule.train_dataset.tokenizer"
   ]
  },
  {
   "cell_type": "code",
   "execution_count": 7,
   "metadata": {},
   "outputs": [],
   "source": [
    "val_loader_iter = iter(val_loader)"
   ]
  },
  {
   "cell_type": "code",
   "execution_count": 49,
   "metadata": {},
   "outputs": [],
   "source": [
    "import matplotlib.pyplot as plt\n",
    "%matplotlib inline"
   ]
  },
  {
   "cell_type": "code",
   "execution_count": 9,
   "metadata": {},
   "outputs": [
    {
     "name": "stdout",
     "output_type": "stream",
     "text": [
      "Model out :  <|endoftext|> <image> question: Where in the image are the calcifications located? answer:? Answer: No <EOC>[PAD][PAD][PAD][PAD][PAD][PAD][PAD][PAD][PAD][PAD][PAD][PAD][PAD][PAD]\n",
      "Correct Answer: High on the image\n"
     ]
    },
    {
     "data": {
      "text/plain": [
       "<matplotlib.image.AxesImage at 0x7f9c6f438e80>"
      ]
     },
     "execution_count": 9,
     "metadata": {},
     "output_type": "execute_result"
    },
    {
     "data": {
      "image/png": "[encoded data removed]",
      "text/plain": [
       "<Figure size 432x288 with 1 Axes>"
      ]
     },
     "metadata": {
      "needs_background": "light"
     },
     "output_type": "display_data"
    }
   ],
   "source": [
    "# batch = next(val_loader_iter)\n",
    "val_img = batch[\"image\"]\n",
    "context   = torch.tensor([tokenizer.encode(\"<|endoftext|> <image> question: \"+batch[\"question\"][0] + ' answer:')]) \n",
    "out = generate(val_img, context, model, ntok=20)\n",
    "print(\"Model out : \",tokenizer.decode(out[0]))\n",
    "print(\"Correct Answer: \" + batch[\"answer\"][0])\n",
    "plt.imshow(torch.swapaxes(val_img.squeeze(0),0,2), cmap='Greys')"
   ]
  },
  {
   "cell_type": "code",
   "execution_count": 38,
   "metadata": {},
   "outputs": [
    {
     "name": "stdout",
     "output_type": "stream",
     "text": [
      "Model out :  <|endoftext|> <image> question: Are there rib fractures present? answer: No <EOC>[PAD][PAD][PAD][PAD][PAD][PAD][PAD][PAD][PAD][PAD][PAD][PAD][PAD][PAD][PAD][PAD][PAD]\n",
      "Correct Answer: No\n"
     ]
    },
    {
     "data": {
      "text/plain": [
       "<matplotlib.image.AxesImage at 0x7fe1ed8c5a80>"
      ]
     },
     "execution_count": 38,
     "metadata": {},
     "output_type": "execute_result"
    },
    {
     "data": {
      "image/png": "[encoded data removed]",
      "text/plain": [
       "<Figure size 432x288 with 1 Axes>"
      ]
     },
     "metadata": {
      "needs_background": "light"
     },
     "output_type": "display_data"
    }
   ],
   "source": [
    "val_img = batch[\"image\"]\n",
    "context   = torch.tensor([tokenizer.encode(\"<|endoftext|> <image> question: \"+batch[\"question\"][0] + ' answer:')]) \n",
    "out = generate(val_img, context, model, ntok=20)\n",
    "print(\"Model out : \",tokenizer.decode(out[0]))\n",
    "print(\"Correct Answer: \" + batch[\"answer\"][0])\n",
    "plt.imshow(torch.swapaxes(val_img.squeeze(0),0,2), cmap='Greys')"
   ]
  },
  {
   "cell_type": "code",
   "execution_count": 25,
   "metadata": {},
   "outputs": [
    {
     "name": "stdout",
     "output_type": "stream",
     "text": [
      "huggingface/tokenizers: The current process just got forked, after parallelism has already been used. Disabling parallelism to avoid deadlocks...\n",
      "To disable this warning, you can either:\n",
      "\t- Avoid using `tokenizers` before the fork if possible\n",
      "\t- Explicitly set the environment variable TOKENIZERS_PARALLELISM=(true | false)\n",
      "huggingface/tokenizers: The current process just got forked, after parallelism has already been used. Disabling parallelism to avoid deadlocks...\n",
      "To disable this warning, you can either:\n",
      "\t- Avoid using `tokenizers` before the fork if possible\n",
      "\t- Explicitly set the environment variable TOKENIZERS_PARALLELISM=(true | false)\n",
      "huggingface/tokenizers: The current process just got forked, after parallelism has already been used. Disabling parallelism to avoid deadlocks...\n",
      "To disable this warning, you can either:\n",
      "\t- Avoid using `tokenizers` before the fork if possible\n",
      "\t- Explicitly set the environment variable TOKENIZERS_PARALLELISM=(true | false)\n",
      "huggingface/tokenizers: The current process just got forked, after parallelism has already been used. Disabling parallelism to avoid deadlocks...\n",
      "To disable this warning, you can either:\n",
      "\t- Avoid using `tokenizers` before the fork if possible\n",
      "\t- Explicitly set the environment variable TOKENIZERS_PARALLELISM=(true | false)\n",
      "huggingface/tokenizers: The current process just got forked, after parallelism has already been used. Disabling parallelism to avoid deadlocks...\n",
      "To disable this warning, you can either:\n",
      "\t- Avoid using `tokenizers` before the fork if possible\n",
      "\t- Explicitly set the environment variable TOKENIZERS_PARALLELISM=(true | false)\n",
      "huggingface/tokenizers: The current process just got forked, after parallelism has already been used. Disabling parallelism to avoid deadlocks...\n",
      "To disable this warning, you can either:\n",
      "\t- Avoid using `tokenizers` before the fork if possible\n",
      "\t- Explicitly set the environment variable TOKENIZERS_PARALLELISM=(true | false)\n",
      "huggingface/tokenizers: The current process just got forked, after parallelism has already been used. Disabling parallelism to avoid deadlocks...\n",
      "To disable this warning, you can either:\n",
      "\t- Avoid using `tokenizers` before the fork if possible\n",
      "\t- Explicitly set the environment variable TOKENIZERS_PARALLELISM=(true | false)\n",
      "huggingface/tokenizers: The current process just got forked, after parallelism has already been used. Disabling parallelism to avoid deadlocks...\n",
      "To disable this warning, you can either:\n",
      "\t- Avoid using `tokenizers` before the fork if possible\n",
      "\t- Explicitly set the environment variable TOKENIZERS_PARALLELISM=(true | false)\n"
     ]
    }
   ],
   "source": [
    "val_loader_iter = iter(val_loader)\n",
    "cos_similarity = torch.nn.CosineSimilarity()"
   ]
  },
  {
   "cell_type": "code",
   "execution_count": 28,
   "metadata": {},
   "outputs": [],
   "source": [
    "from torch import no_grad\n",
    "\n",
    "\n",
    "def generate_logits(image, pred_context, GT_context, GT_answer, model, ntok):\n",
    "\n",
    "    # get a prediction (whole answer)\n",
    "    pred_out_logits = None\n",
    "    pred_answer = torch.tensor([[]])\n",
    "    for i in range(ntok):\n",
    "        out = model({'image': image,'input_ids': pred_context})\n",
    "        logits = out[:, -1, :]\n",
    "        indices_to_remove = logits < torch.topk(logits, 10)[0][..., -1, None]\n",
    "        logits[indices_to_remove] = np.NINF\n",
    "        next_tok = torch.multinomial(F.softmax(logits, dim=-1), num_samples=1).squeeze(1)\n",
    "        pred_answer = torch.cat([pred_answer, next_tok.unsqueeze(-1)], dim=-1)\n",
    "        pred_context = torch.cat([pred_context, next_tok.unsqueeze(-1)], dim=-1)\n",
    "\n",
    "    with torch.no_grad():\n",
    "        model.eval()\n",
    "        # only get embeddings for answer and GT from the model\n",
    "        answer = tokenizer.decode(pred_answer[pred_answer!=50257].int())                # remove padding tokens, <EOC> token remains\n",
    "        # print(f'Ans: {answer}')\n",
    "        pred_answer = torch.tensor([tokenizer.encode(\"<|endoftext|> \" + answer)])\n",
    "        pred_out_logits = model.forward({'image': image,'input_ids': pred_answer}, return_embeds=True)\n",
    "        real_out_logits  = model.forward({'image': image,'input_ids': GT_answer}, return_embeds=True)\n",
    "\n",
    "    return pred_context, pred_out_logits, real_out_logits, answer"
   ]
  },
  {
   "cell_type": "code",
   "execution_count": 30,
   "metadata": {},
   "outputs": [
    {
     "name": "stdout",
     "output_type": "stream",
     "text": [
      "Model out :  <|endoftext|> <image> question: is there evidence of intraparenchymal lung nodules? answer: yes in this chest x xray? Answer: X 5th <EOC>\n",
      "Correct Answer: No\n",
      "Answer: [3763, 287, 428, 7721, 2124, 2124, 2433, 30, 23998, 25, 1395, 642, 400, 1279, 36, 4503]\n"
     ]
    },
    {
     "data": {
      "text/plain": [
       "tensor([0.8924])"
      ]
     },
     "execution_count": 30,
     "metadata": {},
     "output_type": "execute_result"
    }
   ],
   "source": [
    "batch = next(val_loader_iter)\n",
    "val_img = batch[\"image\"]\n",
    "pred_context  = torch.tensor([tokenizer.encode(\"<|endoftext|> <image> question: \"+ batch[\"question\"][0] + ' answer:')]) \n",
    "GT_context  = torch.tensor([tokenizer.encode(\"<|endoftext|> <image> question: \"+ batch[\"question\"][0] + ' answer: ' + batch[\"answer\"][0] + '<EOC>')])\n",
    "GT_answer =  torch.tensor([tokenizer.encode(\"<|endoftext|> \" + batch[\"answer\"][0] + ' <EOC>')])\n",
    "out, pred_out_logits, real_out_logits, answer = generate_logits(val_img, pred_context, GT_context, GT_answer, model, ntok=20)\n",
    "\n",
    "print(\"Model out : \",tokenizer.decode(out[out != 50257]))\n",
    "print(\"Correct Answer: \" + batch[\"answer\"][0])\n",
    "\n",
    "print(f'Answer: {tokenizer.encode(answer[:-1])}')\n",
    "\n",
    "pred = torch.mean(pred_out_logits, dim=1)\n",
    "real = torch.mean(real_out_logits, dim=1)\n",
    "\n",
    "torch.nn.functional.cosine_similarity(pred, real)"
   ]
  },
  {
   "cell_type": "code",
   "execution_count": 55,
   "metadata": {},
   "outputs": [
    {
     "name": "stdout",
     "output_type": "stream",
     "text": [
      "data: (286, 768)\n",
      "labels: torch.Size([286])\n"
     ]
    },
    {
     "data": {
      "text/plain": [
       "<AxesSubplot:>"
      ]
     },
     "execution_count": 55,
     "metadata": {},
     "output_type": "execute_result"
    },
    {
     "data": {
      "image/png": "[encoded data removed]",
      "text/plain": [
       "<Figure size 800x800 with 1 Axes>"
      ]
     },
     "metadata": {},
     "output_type": "display_data"
    }
   ],
   "source": [
    "import umap\n",
    "import umap.plot\n",
    "\n",
    "reducer = umap.UMAP()\n",
    "data = torch.cat([preds, reals], dim=0).detach().numpy()\n",
    "labels = torch.cat([torch.zeros(preds.shape[0]), torch.ones(reals.shape[0])])\n",
    "# data = torch.tensor(preds)\n",
    "print(f'data: {data.shape}')\n",
    "print(f'labels: {labels.shape}')\n",
    "mapper = reducer.fit(data)\n",
    "umap.plot.points(mapper, labels=labels)"
   ]
  },
  {
   "cell_type": "code",
   "execution_count": 56,
   "metadata": {},
   "outputs": [
    {
     "name": "stdout",
     "output_type": "stream",
     "text": [
      "huggingface/tokenizers: The current process just got forked, after parallelism has already been used. Disabling parallelism to avoid deadlocks...\n",
      "To disable this warning, you can either:\n",
      "\t- Avoid using `tokenizers` before the fork if possible\n",
      "\t- Explicitly set the environment variable TOKENIZERS_PARALLELISM=(true | false)\n",
      "huggingface/tokenizers: The current process just got forked, after parallelism has already been used. Disabling parallelism to avoid deadlocks...\n",
      "To disable this warning, you can either:\n",
      "\t- Avoid using `tokenizers` before the fork if possible\n",
      "\t- Explicitly set the environment variable TOKENIZERS_PARALLELISM=(true | false)\n",
      "huggingface/tokenizers: The current process just got forked, after parallelism has already been used. Disabling parallelism to avoid deadlocks...\n",
      "To disable this warning, you can either:\n",
      "\t- Avoid using `tokenizers` before the fork if possible\n",
      "\t- Explicitly set the environment variable TOKENIZERS_PARALLELISM=(true | false)\n",
      "huggingface/tokenizers: The current process just got forked, after parallelism has already been used. Disabling parallelism to avoid deadlocks...\n",
      "To disable this warning, you can either:\n",
      "\t- Avoid using `tokenizers` before the fork if possible\n",
      "\t- Explicitly set the environment variable TOKENIZERS_PARALLELISM=(true | false)\n",
      "huggingface/tokenizers: The current process just got forked, after parallelism has already been used. Disabling parallelism to avoid deadlocks...\n",
      "To disable this warning, you can either:\n",
      "\t- Avoid using `tokenizers` before the fork if possible\n",
      "\t- Explicitly set the environment variable TOKENIZERS_PARALLELISM=(true | false)\n",
      "huggingface/tokenizers: The current process just got forked, after parallelism has already been used. Disabling parallelism to avoid deadlocks...\n",
      "To disable this warning, you can either:\n",
      "\t- Avoid using `tokenizers` before the fork if possible\n",
      "\t- Explicitly set the environment variable TOKENIZERS_PARALLELISM=(true | false)\n",
      "huggingface/tokenizers: The current process just got forked, after parallelism has already been used. Disabling parallelism to avoid deadlocks...\n",
      "To disable this warning, you can either:\n",
      "\t- Avoid using `tokenizers` before the fork if possible\n",
      "\t- Explicitly set the environment variable TOKENIZERS_PARALLELISM=(true | false)\n",
      "huggingface/tokenizers: The current process just got forked, after parallelism has already been used. Disabling parallelism to avoid deadlocks...\n",
      "To disable this warning, you can either:\n",
      "\t- Avoid using `tokenizers` before the fork if possible\n",
      "\t- Explicitly set the environment variable TOKENIZERS_PARALLELISM=(true | false)\n",
      "validation dataset has 143 samples\n",
      "Another 10..\n",
      "Another 10..\n",
      "Another 10..\n",
      "Another 10..\n",
      "Another 10..\n",
      "Another 10..\n",
      "Another 10..\n",
      "Another 10..\n",
      "Another 10..\n",
      "Another 10..\n",
      "Another 10..\n",
      "Another 10..\n",
      "Another 10..\n",
      "Another 10..\n",
      "huggingface/tokenizers: The current process just got forked, after parallelism has already been used. Disabling parallelism to avoid deadlocks...\n",
      "To disable this warning, you can either:\n",
      "\t- Avoid using `tokenizers` before the fork if possible\n",
      "\t- Explicitly set the environment variable TOKENIZERS_PARALLELISM=(true | false)\n",
      "huggingface/tokenizers: The current process just got forked, after parallelism has already been used. Disabling parallelism to avoid deadlocks...\n",
      "To disable this warning, you can either:\n",
      "\t- Avoid using `tokenizers` before the fork if possible\n",
      "\t- Explicitly set the environment variable TOKENIZERS_PARALLELISM=(true | false)\n",
      "huggingface/tokenizers: The current process just got forked, after parallelism has already been used. Disabling parallelism to avoid deadlocks...\n",
      "To disable this warning, you can either:\n",
      "\t- Avoid using `tokenizers` before the fork if possible\n",
      "\t- Explicitly set the environment variable TOKENIZERS_PARALLELISM=(true | false)\n",
      "\t- Explicitly set the environment variable TOKENIZERS_PARALLELISM=(true | false)\n",
      "There were 143 TPs out of 143\n",
      "There were 45 identi cal answers out of 143\n"
     ]
    }
   ],
   "source": [
    "# do validation dataset eval\n",
    "val_loader_iter = iter(val_loader)\n",
    "n = len(val_loader)\n",
    "print(f'validation dataset has {n} samples')\n",
    "\n",
    "preds = torch.tensor([])\n",
    "reals = torch.tensor([])\n",
    "\n",
    "similarity_num = 0\n",
    "identical_num = 0\n",
    "\n",
    "for sample in val_loader_iter:\n",
    "    val_img = sample[\"image\"]\n",
    "    pred_context  = torch.tensor([tokenizer.encode(\"<|endoftext|> <image> question: \"+ sample[\"question\"][0] + ' answer:')]) \n",
    "    GT_context  = torch.tensor([tokenizer.encode(\"<|endoftext|> <image> question: \"+ sample[\"question\"][0] + ' answer: ' + sample[\"answer\"][0] + '<EOC>')])\n",
    "    GT_answer =  torch.tensor([tokenizer.encode(\"<|endoftext|> \" + sample[\"answer\"][0] + ' <EOC>')])\n",
    "    out, pred_out_logits, real_out_logits, answer = generate_logits(val_img, pred_context, GT_context, GT_answer, model, ntok=20)\n",
    "\n",
    "    pred = torch.mean(pred_out_logits, dim=1)\n",
    "    real = torch.mean(real_out_logits, dim=1)\n",
    "\n",
    "    ans = answer.replace('<EOC>','')\n",
    "    # print(f'gt {sample[\"answer\"][0].strip()}\\npred: {ans.strip()}')\n",
    "\n",
    "    if sample[\"answer\"][0].strip().lower() == ans.strip().lower():\n",
    "        identical_num += 1\n",
    "\n",
    "    similarity = cos_similarity(pred, real)\n",
    "    if similarity.detach().numpy()[0] > 0.95:\n",
    "        print(\"Model out : \",tokenizer.decode(out[out != 50257]))\n",
    "        print(\"Correct Answer: \" + sample[\"answer\"][0])\n",
    "        similarity_num += 1\n",
    "        if similarity_num % 10 == 0:\n",
    "            print(f'Another 10..')\n",
    "        preds = torch.cat([preds,pred], dim=1)\n",
    "        reals = torch.cat([reals,real], dim=1)\n",
    "\n",
    "print(f'There were {similarity_num} TPs out of {n}')\n",
    "print(f'There were {identical_num} identi cal answers out of {n}')"
   ]
  },
  {
   "cell_type": "code",
   "execution_count": 57,
   "metadata": {},
   "outputs": [
    {
     "name": "stdout",
     "output_type": "stream",
     "text": [
      "huggingface/tokenizers: The current process just got forked, after parallelism has already been used. Disabling parallelism to avoid deadlocks...\n",
      "To disable this warning, you can either:\n",
      "\t- Avoid using `tokenizers` before the fork if possible\n",
      "\t- Explicitly set the environment variable TOKENIZERS_PARALLELISM=(true | false)\n",
      "huggingface/tokenizers: The current process just got forked, after parallelism has already been used. Disabling parallelism to avoid deadlocks...\n",
      "To disable this warning, you can either:\n",
      "\t- Avoid using `tokenizers` before the fork if possible\n",
      "\t- Explicitly set the environment variable TOKENIZERS_PARALLELISM=(true | false)\n",
      "huggingface/tokenizers: The current process just got forked, after parallelism has already been used. Disabling parallelism to avoid deadlocks...\n",
      "To disable this warning, you can either:\n",
      "\t- Avoid using `tokenizers` before the fork if possible\n",
      "\t- Explicitly set the environment variable TOKENIZERS_PARALLELISM=(true | false)\n",
      "huggingface/tokenizers: The current process just got forked, after parallelism has already been used. Disabling parallelism to avoid deadlocks...\n",
      "To disable this warning, you can either:\n",
      "\t- Avoid using `tokenizers` before the fork if possible\n",
      "\t- Explicitly set the environment variable TOKENIZERS_PARALLELISM=(true | false)\n",
      "huggingface/tokenizers: The current process just got forked, after parallelism has already been used. Disabling parallelism to avoid deadlocks...\n",
      "To disable this warning, you can either:\n",
      "\t- Avoid using `tokenizers` before the fork if possible\n",
      "\t- Explicitly set the environment variable TOKENIZERS_PARALLELISM=(true | false)\n",
      "huggingface/tokenizers: The current process just got forked, after parallelism has already been used. Disabling parallelism to avoid deadlocks...\n",
      "To disable this warning, you can either:\n",
      "\t- Avoid using `tokenizers` before the fork if possible\n",
      "\t- Explicitly set the environment variable TOKENIZERS_PARALLELISM=(true | false)\n",
      "huggingface/tokenizers: The current process just got forked, after parallelism has already been used. Disabling parallelism to avoid deadlocks...\n",
      "To disable this warning, you can either:\n",
      "\t- Avoid using `tokenizers` before the fork if possible\n",
      "\t- Explicitly set the environment variable TOKENIZERS_PARALLELISM=(true | false)\n",
      "huggingface/tokenizers: The current process just got forked, after parallelism has already been used. Disabling parallelism to avoid deadlocks...\n",
      "To disable this warning, you can either:\n",
      "\t- Avoid using `tokenizers` before the fork if possible\n",
      "\t- Explicitly set the environment variable TOKENIZERS_PARALLELISM=(true | false)\n",
      "validation dataset has 80 samples\n",
      "Another 10..\n",
      "Another 10..\n"
     ]
    }
   ],
   "source": [
    "# do validation dataset eval\n",
    "test_loader_iter = iter(test_loader)\n",
    "n = len(test_loader)\n",
    "print(f'validation dataset has {n} samples')\n",
    "\n",
    "preds = torch.tensor([])\n",
    "reals = torch.tensor([])\n",
    "\n",
    "similarity_num = 0\n",
    "identical_num = 0\n",
    "\n",
    "for sample in test_loader_iter:\n",
    "    val_img = sample[\"image\"]\n",
    "    pred_context  = torch.tensor([tokenizer.encode(\"<|endoftext|> <image> question: \"+ sample[\"question\"][0] + ' answer:')]) \n",
    "    GT_context  = torch.tensor([tokenizer.encode(\"<|endoftext|> <image> question: \"+ sample[\"question\"][0] + ' answer: ' + sample[\"answer\"][0] + '<EOC>')])\n",
    "    GT_answer =  torch.tensor([tokenizer.encode(\"<|endoftext|> \" + sample[\"answer\"][0] + ' <EOC>')])\n",
    "    out, pred_out_logits, real_out_logits, answer = generate_logits(val_img, pred_context, GT_context, GT_answer, model, ntok=20)\n",
    "\n",
    "    pred = torch.mean(pred_out_logits, dim=1)\n",
    "    real = torch.mean(real_out_logits, dim=1)\n",
    "\n",
    "    ans = answer.replace('<EOC>','')\n",
    "    # print(f'gt {sample[\"answer\"][0].strip()}\\npred: {ans.strip()}')\n",
    "\n",
    "    if sample[\"answer\"][0].strip().lower() == ans.strip().lower():\n",
    "        identical_num += 1\n",
    "\n",
    "    similarity = cos_similarity(pred, real)\n",
    "    if similarity.detach().numpy()[0] > 0.95:\n",
    "        # print(\"Model out : \",tokenizer.decode(out[out != 50257]))\n",
    "        # print(\"Correct Answer: \" + sample[\"answer\"][0])\n",
    "        similarity_num += 1\n",
    "        if similarity_num % 10 == 0:\n",
    "            print(f'Another 10..')\n",
    "        preds = torch.cat([preds,pred], dim=1)\n",
    "        reals = torch.cat([reals,real], dim=1)\n",
    "\n",
    "print(f'There were {similarity_num} TPs out of {n}')\n",
    "print(f'There were {identical_num} identi cal answers out of {n}')"
   ]
  }
 ],
 "metadata": {
  "kernelspec": {
   "display_name": "Python 3.10.4 ('mlmi')",
   "language": "python",
   "name": "python3"
  },
  "language_info": {
   "codemirror_mode": {
    "name": "ipython",
    "version": 3
   },
   "file_extension": ".py",
   "mimetype": "text/x-python",
   "name": "python",
   "nbconvert_exporter": "python",
   "pygments_lexer": "ipython3",
   "version": "3.10.5"
  },
  "orig_nbformat": 4,
  "vscode": {
   "interpreter": {
    "hash": "30ec110bc924a9e139919a87e1ff85100b6c769b1dd45b8d281b6aff673f8e03"
   }
  }
 },
 "nbformat": 4,
 "nbformat_minor": 2
}
