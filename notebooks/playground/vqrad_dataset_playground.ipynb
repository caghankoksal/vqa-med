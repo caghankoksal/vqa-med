{
 "cells": [
  {
   "cell_type": "code",
   "execution_count": 1,
   "metadata": {},
   "outputs": [
    {
     "name": "stderr",
     "output_type": "stream",
     "text": [
      "/Users/caghankoksal/miniforge3/envs/torch-nightly/lib/python3.8/site-packages/tqdm/auto.py:22: TqdmWarning: IProgress not found. Please update jupyter and ipywidgets. See https://ipywidgets.readthedocs.io/en/stable/user_install.html\n",
      "  from .autonotebook import tqdm as notebook_tqdm\n"
     ]
    }
   ],
   "source": [
    "sys.path.append('/Users/caghankoksal/Desktop/SS2022/emic-vqa/')\n",
    "import os\n",
    "import sys\n",
    "import json\n",
    "import _pickle as cPickle\n",
    "from PIL import Image\n",
    "import numpy as np\n",
    "from torchvision import transforms\n",
    "\n",
    "from src.datasets.vq_rad_dataset import VQ_Rad_Dataset"
   ]
  },
  {
   "cell_type": "code",
   "execution_count": 2,
   "metadata": {},
   "outputs": [],
   "source": [
    "dataroot = '/Users/caghankoksal/Desktop/SS2022/emic-vqa/data/external/data_RAD'"
   ]
  },
  {
   "cell_type": "code",
   "execution_count": 3,
   "metadata": {},
   "outputs": [],
   "source": [
    "train_dataset = VQ_Rad_Dataset(root=dataroot, transform=transforms.Compose([\n",
    "                                transforms.RandomHorizontalFlip(),\n",
    "                                transforms.Resize((224,224)),\n",
    "                                transforms.ToTensor(),\n",
    "                                transforms.Normalize((0.485, 0.456, 0.406), (0.229, 0.224, 0.225))]),\n",
    "                                split='train',\n",
    "                                question_tokenize=False)"
   ]
  },
  {
   "cell_type": "code",
   "execution_count": 4,
   "metadata": {},
   "outputs": [],
   "source": [
    "cur_img = train_dataset[0][0]"
   ]
  },
  {
   "cell_type": "code",
   "execution_count": 5,
   "metadata": {},
   "outputs": [],
   "source": [
    "from torch.utils.data import DataLoader\n",
    "train_dataloader = DataLoader(train_dataset, batch_size=64, shuffle=True)"
   ]
  },
  {
   "cell_type": "code",
   "execution_count": 6,
   "metadata": {},
   "outputs": [],
   "source": [
    "train_features, questions, answers = next(iter(train_dataloader))"
   ]
  },
  {
   "cell_type": "code",
   "execution_count": 7,
   "metadata": {},
   "outputs": [
    {
     "data": {
      "text/plain": [
       "torch.Size([64, 3, 224, 224])"
      ]
     },
     "execution_count": 7,
     "metadata": {},
     "output_type": "execute_result"
    }
   ],
   "source": [
    "train_features.shape"
   ]
  },
  {
   "cell_type": "code",
   "execution_count": 11,
   "metadata": {},
   "outputs": [
    {
     "data": {
      "text/plain": [
       "[('In what organ do you see swelling?', 'Appendix'),\n",
       " ('Is this taken in the axial plane?', 'yes'),\n",
       " ('Where is/are the nodules located?', 'Bilateral lungs'),\n",
       " ('Is the left hemodiaphragm flat?', 'Yes'),\n",
       " ('Are the biliary ducts dilated?', 'Yes'),\n",
       " ('What abnormality is seen?',\n",
       "  'Blind-ending loop of bowel arising from the cecum'),\n",
       " ('Is/Are the vascular markings increased?', 'yes'),\n",
       " ('Is the air under the left hemidiaphragm pathologic?', 'No'),\n",
       " ('What is/are the secondary pathology ?', 'moderate edema'),\n",
       " ('Is/Are there fat stranding?', 'No'),\n",
       " (\"Is/Are there calcifications in the patient's aorta?\", 'yes'),\n",
       " ('Is/Are there ring-enhancement?', 'no'),\n",
       " ('Describe the size of this lesion?', '5.6cm focal, predominantly hypodense'),\n",
       " ('Where is the abnormal finding?', 'Right colon'),\n",
       " ('Where is the lesion located?', 'Left occipital lobe'),\n",
       " ('Is there a hypodensity located in the liver?', 'Yes'),\n",
       " ('Where is/are the mass located?', 'Left rectus abdominus'),\n",
       " ('Where is/are the nodules located?', 'Right lung'),\n",
       " ('Is the liver parenchyma normal?', 'Yes'),\n",
       " ('Does the image show pericolonic fat stranding?', 'yes'),\n",
       " ('Is there evidence of pneumoperitoneum?', 'No'),\n",
       " ('Is there a pneumothorax?', 'No'),\n",
       " ('Is there any hemorrhage?', 'No'),\n",
       " ('What is the affected organ?', 'pancreas'),\n",
       " ('Where is/are the lesions located?', 'Paratracheal area'),\n",
       " ('Does this patient have multiple lesions in their chest?', 'No'),\n",
       " ('Where is/are the hyperintensitites located?',\n",
       "  'Cortical ribbon of right occipital lobe with extension into right posterior temporal lobe'),\n",
       " ('Is/Are there a perforated bowel?', 'No'),\n",
       " ('Where is/are the abnormality located?',\n",
       "  'hyperintensity of the left basal ganglia'),\n",
       " ('Is the mass homogenous?', 'No'),\n",
       " ('Is/Are the brain normal?', 'No'),\n",
       " ('Is this MRI with contrast or without contrast?', 'with contrast'),\n",
       " ('Do you suspect vascular process or a genetic process?', 'genetic'),\n",
       " ('Is/Are there right conal fascia inflammation?', 'yes'),\n",
       " ('What is seen in the right kidney?', 'Cystic lesions'),\n",
       " ('Are the clavicles fractured?', 'No'),\n",
       " ('Is/Are there fractures?', 'No'),\n",
       " ('Where is the abnormality?', 'Right side of the trachea'),\n",
       " ('What types of infarcts are these most likely?', 'punctate'),\n",
       " ('What is/are the hypoattenuated tissue near/in the skin?', 'fat'),\n",
       " ('Where is/are the lesion located?', 'Abdomen and pelvis'),\n",
       " ('Is/Are the mass heterogenous? -yes/no', 'Yes'),\n",
       " ('Is the mass homogeneous?', 'No'),\n",
       " ('Is/Are the mass located? -yes/no', 'Yes'),\n",
       " ('What is the hemorrhage?', 'Subarachnoid'),\n",
       " ('Is/Are there inflammation?', 'yes'),\n",
       " ('How wide is/are the cardiac shadow? -open', 'Less than half the thorax'),\n",
       " ('Is the renal mass distending the abdominal wall?', 'A bit'),\n",
       " (\"Is/Are there a fracture in the patient's vertebrae?\", 'no'),\n",
       " ('Is the cerebellum present in the image?', 'no'),\n",
       " ('What is a pleural effusion', 'Fluid in the pleural space'),\n",
       " ('Is the celiac trunk open?', 'Yes'),\n",
       " ('Is this a ring enhancing lesion?', 'no'),\n",
       " (\"What is the lobe in the patient's cerebrum?\", 'Temporal lobe'),\n",
       " ('What is the lesion in this image?', 'ring-enhancing lesion'),\n",
       " ('Where is the high density of masses located?', 'Upper lobes'),\n",
       " ('Where is/are the infarct located?', 'Right parietal'),\n",
       " ('Where is/are the mass located?', 'Pineal gland'),\n",
       " ('Is/Are the liver parenchyma homogenous??', 'Yes'),\n",
       " ('Is/Are there nipple markers present?', 'Yes'),\n",
       " ('Are the bowel loops on the right or left side of the patient?',\n",
       "  'Left side'),\n",
       " (\"Is/Are there blurring of the grey-white matter in the patient's right temporal lobe?\",\n",
       "  'Yes'),\n",
       " (\"Is/Are there ring enchancing lesion in the patient's liver?\", 'No'),\n",
       " ('Is there midline shift?', 'Yes')]"
      ]
     },
     "execution_count": 11,
     "metadata": {},
     "output_type": "execute_result"
    }
   ],
   "source": [
    "list(zip(questions,answers))"
   ]
  },
  {
   "cell_type": "code",
   "execution_count": null,
   "metadata": {},
   "outputs": [],
   "source": []
  },
  {
   "cell_type": "code",
   "execution_count": null,
   "metadata": {},
   "outputs": [],
   "source": []
  }
 ],
 "metadata": {
  "interpreter": {
   "hash": "892a7f8aeabe86b99d45932805d162784b758c544538f3ce4737e4a115db3cfd"
  },
  "kernelspec": {
   "display_name": "Python 3.8.13 ('torch-nightly')",
   "language": "python",
   "name": "python3"
  },
  "language_info": {
   "codemirror_mode": {
    "name": "ipython",
    "version": 3
   },
   "file_extension": ".py",
   "mimetype": "text/x-python",
   "name": "python",
   "nbconvert_exporter": "python",
   "pygments_lexer": "ipython3",
   "version": "3.8.13"
  },
  "orig_nbformat": 4
 },
 "nbformat": 4,
 "nbformat_minor": 2
}
